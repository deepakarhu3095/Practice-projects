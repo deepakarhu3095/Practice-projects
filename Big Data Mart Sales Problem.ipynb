{
 "cells": [
  {
   "cell_type": "code",
   "execution_count": 3,
   "id": "6328c991",
   "metadata": {},
   "outputs": [],
   "source": [
    "import warnings\n",
    "warnings.filterwarnings('ignore')"
   ]
  },
  {
   "cell_type": "code",
   "execution_count": 4,
   "id": "64e3bf19",
   "metadata": {},
   "outputs": [],
   "source": [
    "import pandas as pd\n",
    "train=pd.read_csv('bigdatamart_Train.csv')\n",
    "test=pd.read_csv('bigdatamart_Test.csv')"
   ]
  },
  {
   "cell_type": "code",
   "execution_count": 5,
   "id": "b7f013d3",
   "metadata": {},
   "outputs": [
    {
     "data": {
      "text/html": [
       "<div>\n",
       "<style scoped>\n",
       "    .dataframe tbody tr th:only-of-type {\n",
       "        vertical-align: middle;\n",
       "    }\n",
       "\n",
       "    .dataframe tbody tr th {\n",
       "        vertical-align: top;\n",
       "    }\n",
       "\n",
       "    .dataframe thead th {\n",
       "        text-align: right;\n",
       "    }\n",
       "</style>\n",
       "<table border=\"1\" class=\"dataframe\">\n",
       "  <thead>\n",
       "    <tr style=\"text-align: right;\">\n",
       "      <th></th>\n",
       "      <th>Item_Identifier</th>\n",
       "      <th>Item_Weight</th>\n",
       "      <th>Item_Fat_Content</th>\n",
       "      <th>Item_Visibility</th>\n",
       "      <th>Item_Type</th>\n",
       "      <th>Item_MRP</th>\n",
       "      <th>Outlet_Identifier</th>\n",
       "      <th>Outlet_Establishment_Year</th>\n",
       "      <th>Outlet_Size</th>\n",
       "      <th>Outlet_Location_Type</th>\n",
       "      <th>Outlet_Type</th>\n",
       "      <th>Item_Outlet_Sales</th>\n",
       "    </tr>\n",
       "  </thead>\n",
       "  <tbody>\n",
       "    <tr>\n",
       "      <th>0</th>\n",
       "      <td>FDA15</td>\n",
       "      <td>9.30</td>\n",
       "      <td>Low Fat</td>\n",
       "      <td>0.016047</td>\n",
       "      <td>Dairy</td>\n",
       "      <td>249.8092</td>\n",
       "      <td>OUT049</td>\n",
       "      <td>1999</td>\n",
       "      <td>Medium</td>\n",
       "      <td>Tier 1</td>\n",
       "      <td>Supermarket Type1</td>\n",
       "      <td>3735.1380</td>\n",
       "    </tr>\n",
       "    <tr>\n",
       "      <th>1</th>\n",
       "      <td>DRC01</td>\n",
       "      <td>5.92</td>\n",
       "      <td>Regular</td>\n",
       "      <td>0.019278</td>\n",
       "      <td>Soft Drinks</td>\n",
       "      <td>48.2692</td>\n",
       "      <td>OUT018</td>\n",
       "      <td>2009</td>\n",
       "      <td>Medium</td>\n",
       "      <td>Tier 3</td>\n",
       "      <td>Supermarket Type2</td>\n",
       "      <td>443.4228</td>\n",
       "    </tr>\n",
       "    <tr>\n",
       "      <th>2</th>\n",
       "      <td>FDN15</td>\n",
       "      <td>17.50</td>\n",
       "      <td>Low Fat</td>\n",
       "      <td>0.016760</td>\n",
       "      <td>Meat</td>\n",
       "      <td>141.6180</td>\n",
       "      <td>OUT049</td>\n",
       "      <td>1999</td>\n",
       "      <td>Medium</td>\n",
       "      <td>Tier 1</td>\n",
       "      <td>Supermarket Type1</td>\n",
       "      <td>2097.2700</td>\n",
       "    </tr>\n",
       "    <tr>\n",
       "      <th>3</th>\n",
       "      <td>FDX07</td>\n",
       "      <td>19.20</td>\n",
       "      <td>Regular</td>\n",
       "      <td>0.000000</td>\n",
       "      <td>Fruits and Vegetables</td>\n",
       "      <td>182.0950</td>\n",
       "      <td>OUT010</td>\n",
       "      <td>1998</td>\n",
       "      <td>NaN</td>\n",
       "      <td>Tier 3</td>\n",
       "      <td>Grocery Store</td>\n",
       "      <td>732.3800</td>\n",
       "    </tr>\n",
       "    <tr>\n",
       "      <th>4</th>\n",
       "      <td>NCD19</td>\n",
       "      <td>8.93</td>\n",
       "      <td>Low Fat</td>\n",
       "      <td>0.000000</td>\n",
       "      <td>Household</td>\n",
       "      <td>53.8614</td>\n",
       "      <td>OUT013</td>\n",
       "      <td>1987</td>\n",
       "      <td>High</td>\n",
       "      <td>Tier 3</td>\n",
       "      <td>Supermarket Type1</td>\n",
       "      <td>994.7052</td>\n",
       "    </tr>\n",
       "  </tbody>\n",
       "</table>\n",
       "</div>"
      ],
      "text/plain": [
       "  Item_Identifier  Item_Weight Item_Fat_Content  Item_Visibility  \\\n",
       "0           FDA15         9.30          Low Fat         0.016047   \n",
       "1           DRC01         5.92          Regular         0.019278   \n",
       "2           FDN15        17.50          Low Fat         0.016760   \n",
       "3           FDX07        19.20          Regular         0.000000   \n",
       "4           NCD19         8.93          Low Fat         0.000000   \n",
       "\n",
       "               Item_Type  Item_MRP Outlet_Identifier  \\\n",
       "0                  Dairy  249.8092            OUT049   \n",
       "1            Soft Drinks   48.2692            OUT018   \n",
       "2                   Meat  141.6180            OUT049   \n",
       "3  Fruits and Vegetables  182.0950            OUT010   \n",
       "4              Household   53.8614            OUT013   \n",
       "\n",
       "   Outlet_Establishment_Year Outlet_Size Outlet_Location_Type  \\\n",
       "0                       1999      Medium               Tier 1   \n",
       "1                       2009      Medium               Tier 3   \n",
       "2                       1999      Medium               Tier 1   \n",
       "3                       1998         NaN               Tier 3   \n",
       "4                       1987        High               Tier 3   \n",
       "\n",
       "         Outlet_Type  Item_Outlet_Sales  \n",
       "0  Supermarket Type1          3735.1380  \n",
       "1  Supermarket Type2           443.4228  \n",
       "2  Supermarket Type1          2097.2700  \n",
       "3      Grocery Store           732.3800  \n",
       "4  Supermarket Type1           994.7052  "
      ]
     },
     "execution_count": 5,
     "metadata": {},
     "output_type": "execute_result"
    }
   ],
   "source": [
    "train.head()"
   ]
  },
  {
   "cell_type": "code",
   "execution_count": 6,
   "id": "8bf10a99",
   "metadata": {},
   "outputs": [
    {
     "data": {
      "text/html": [
       "<div>\n",
       "<style scoped>\n",
       "    .dataframe tbody tr th:only-of-type {\n",
       "        vertical-align: middle;\n",
       "    }\n",
       "\n",
       "    .dataframe tbody tr th {\n",
       "        vertical-align: top;\n",
       "    }\n",
       "\n",
       "    .dataframe thead th {\n",
       "        text-align: right;\n",
       "    }\n",
       "</style>\n",
       "<table border=\"1\" class=\"dataframe\">\n",
       "  <thead>\n",
       "    <tr style=\"text-align: right;\">\n",
       "      <th></th>\n",
       "      <th>Item_Identifier</th>\n",
       "      <th>Item_Weight</th>\n",
       "      <th>Item_Fat_Content</th>\n",
       "      <th>Item_Visibility</th>\n",
       "      <th>Item_Type</th>\n",
       "      <th>Item_MRP</th>\n",
       "      <th>Outlet_Identifier</th>\n",
       "      <th>Outlet_Establishment_Year</th>\n",
       "      <th>Outlet_Size</th>\n",
       "      <th>Outlet_Location_Type</th>\n",
       "      <th>Outlet_Type</th>\n",
       "    </tr>\n",
       "  </thead>\n",
       "  <tbody>\n",
       "    <tr>\n",
       "      <th>0</th>\n",
       "      <td>FDW58</td>\n",
       "      <td>20.750</td>\n",
       "      <td>Low Fat</td>\n",
       "      <td>0.007565</td>\n",
       "      <td>Snack Foods</td>\n",
       "      <td>107.8622</td>\n",
       "      <td>OUT049</td>\n",
       "      <td>1999</td>\n",
       "      <td>Medium</td>\n",
       "      <td>Tier 1</td>\n",
       "      <td>Supermarket Type1</td>\n",
       "    </tr>\n",
       "    <tr>\n",
       "      <th>1</th>\n",
       "      <td>FDW14</td>\n",
       "      <td>8.300</td>\n",
       "      <td>reg</td>\n",
       "      <td>0.038428</td>\n",
       "      <td>Dairy</td>\n",
       "      <td>87.3198</td>\n",
       "      <td>OUT017</td>\n",
       "      <td>2007</td>\n",
       "      <td>NaN</td>\n",
       "      <td>Tier 2</td>\n",
       "      <td>Supermarket Type1</td>\n",
       "    </tr>\n",
       "    <tr>\n",
       "      <th>2</th>\n",
       "      <td>NCN55</td>\n",
       "      <td>14.600</td>\n",
       "      <td>Low Fat</td>\n",
       "      <td>0.099575</td>\n",
       "      <td>Others</td>\n",
       "      <td>241.7538</td>\n",
       "      <td>OUT010</td>\n",
       "      <td>1998</td>\n",
       "      <td>NaN</td>\n",
       "      <td>Tier 3</td>\n",
       "      <td>Grocery Store</td>\n",
       "    </tr>\n",
       "    <tr>\n",
       "      <th>3</th>\n",
       "      <td>FDQ58</td>\n",
       "      <td>7.315</td>\n",
       "      <td>Low Fat</td>\n",
       "      <td>0.015388</td>\n",
       "      <td>Snack Foods</td>\n",
       "      <td>155.0340</td>\n",
       "      <td>OUT017</td>\n",
       "      <td>2007</td>\n",
       "      <td>NaN</td>\n",
       "      <td>Tier 2</td>\n",
       "      <td>Supermarket Type1</td>\n",
       "    </tr>\n",
       "    <tr>\n",
       "      <th>4</th>\n",
       "      <td>FDY38</td>\n",
       "      <td>NaN</td>\n",
       "      <td>Regular</td>\n",
       "      <td>0.118599</td>\n",
       "      <td>Dairy</td>\n",
       "      <td>234.2300</td>\n",
       "      <td>OUT027</td>\n",
       "      <td>1985</td>\n",
       "      <td>Medium</td>\n",
       "      <td>Tier 3</td>\n",
       "      <td>Supermarket Type3</td>\n",
       "    </tr>\n",
       "  </tbody>\n",
       "</table>\n",
       "</div>"
      ],
      "text/plain": [
       "  Item_Identifier  Item_Weight Item_Fat_Content  Item_Visibility    Item_Type  \\\n",
       "0           FDW58       20.750          Low Fat         0.007565  Snack Foods   \n",
       "1           FDW14        8.300              reg         0.038428        Dairy   \n",
       "2           NCN55       14.600          Low Fat         0.099575       Others   \n",
       "3           FDQ58        7.315          Low Fat         0.015388  Snack Foods   \n",
       "4           FDY38          NaN          Regular         0.118599        Dairy   \n",
       "\n",
       "   Item_MRP Outlet_Identifier  Outlet_Establishment_Year Outlet_Size  \\\n",
       "0  107.8622            OUT049                       1999      Medium   \n",
       "1   87.3198            OUT017                       2007         NaN   \n",
       "2  241.7538            OUT010                       1998         NaN   \n",
       "3  155.0340            OUT017                       2007         NaN   \n",
       "4  234.2300            OUT027                       1985      Medium   \n",
       "\n",
       "  Outlet_Location_Type        Outlet_Type  \n",
       "0               Tier 1  Supermarket Type1  \n",
       "1               Tier 2  Supermarket Type1  \n",
       "2               Tier 3      Grocery Store  \n",
       "3               Tier 2  Supermarket Type1  \n",
       "4               Tier 3  Supermarket Type3  "
      ]
     },
     "execution_count": 6,
     "metadata": {},
     "output_type": "execute_result"
    }
   ],
   "source": [
    "test.head()"
   ]
  },
  {
   "cell_type": "code",
   "execution_count": 8,
   "id": "5f005c7b",
   "metadata": {},
   "outputs": [
    {
     "name": "stdout",
     "output_type": "stream",
     "text": [
      "(8523, 13) (5681, 13) (14204, 13)\n"
     ]
    }
   ],
   "source": [
    "#Combining the 2 datasets\n",
    "train['source']='train'   #For identifying train data\n",
    "test['source']='test'     #For identifying test data\n",
    "test['Item_Outlet_Sales']= 0   #As we don't know the Item outlet sales in test, we are assuming as 0\n",
    "df=pd.concat([test,train],ignore_index=True)   #Combining using concat\n",
    "print(train.shape,test.shape,df.shape)  "
   ]
  },
  {
   "cell_type": "code",
   "execution_count": 9,
   "id": "089ed7e1",
   "metadata": {},
   "outputs": [
    {
     "data": {
      "text/html": [
       "<div>\n",
       "<style scoped>\n",
       "    .dataframe tbody tr th:only-of-type {\n",
       "        vertical-align: middle;\n",
       "    }\n",
       "\n",
       "    .dataframe tbody tr th {\n",
       "        vertical-align: top;\n",
       "    }\n",
       "\n",
       "    .dataframe thead th {\n",
       "        text-align: right;\n",
       "    }\n",
       "</style>\n",
       "<table border=\"1\" class=\"dataframe\">\n",
       "  <thead>\n",
       "    <tr style=\"text-align: right;\">\n",
       "      <th></th>\n",
       "      <th>Item_Identifier</th>\n",
       "      <th>Item_Weight</th>\n",
       "      <th>Item_Fat_Content</th>\n",
       "      <th>Item_Visibility</th>\n",
       "      <th>Item_Type</th>\n",
       "      <th>Item_MRP</th>\n",
       "      <th>Outlet_Identifier</th>\n",
       "      <th>Outlet_Establishment_Year</th>\n",
       "      <th>Outlet_Size</th>\n",
       "      <th>Outlet_Location_Type</th>\n",
       "      <th>Outlet_Type</th>\n",
       "      <th>source</th>\n",
       "      <th>Item_Outlet_Sales</th>\n",
       "    </tr>\n",
       "  </thead>\n",
       "  <tbody>\n",
       "    <tr>\n",
       "      <th>0</th>\n",
       "      <td>FDW58</td>\n",
       "      <td>20.750</td>\n",
       "      <td>Low Fat</td>\n",
       "      <td>0.007565</td>\n",
       "      <td>Snack Foods</td>\n",
       "      <td>107.8622</td>\n",
       "      <td>OUT049</td>\n",
       "      <td>1999</td>\n",
       "      <td>Medium</td>\n",
       "      <td>Tier 1</td>\n",
       "      <td>Supermarket Type1</td>\n",
       "      <td>test</td>\n",
       "      <td>0.0000</td>\n",
       "    </tr>\n",
       "    <tr>\n",
       "      <th>1</th>\n",
       "      <td>FDW14</td>\n",
       "      <td>8.300</td>\n",
       "      <td>reg</td>\n",
       "      <td>0.038428</td>\n",
       "      <td>Dairy</td>\n",
       "      <td>87.3198</td>\n",
       "      <td>OUT017</td>\n",
       "      <td>2007</td>\n",
       "      <td>NaN</td>\n",
       "      <td>Tier 2</td>\n",
       "      <td>Supermarket Type1</td>\n",
       "      <td>test</td>\n",
       "      <td>0.0000</td>\n",
       "    </tr>\n",
       "    <tr>\n",
       "      <th>2</th>\n",
       "      <td>NCN55</td>\n",
       "      <td>14.600</td>\n",
       "      <td>Low Fat</td>\n",
       "      <td>0.099575</td>\n",
       "      <td>Others</td>\n",
       "      <td>241.7538</td>\n",
       "      <td>OUT010</td>\n",
       "      <td>1998</td>\n",
       "      <td>NaN</td>\n",
       "      <td>Tier 3</td>\n",
       "      <td>Grocery Store</td>\n",
       "      <td>test</td>\n",
       "      <td>0.0000</td>\n",
       "    </tr>\n",
       "    <tr>\n",
       "      <th>3</th>\n",
       "      <td>FDQ58</td>\n",
       "      <td>7.315</td>\n",
       "      <td>Low Fat</td>\n",
       "      <td>0.015388</td>\n",
       "      <td>Snack Foods</td>\n",
       "      <td>155.0340</td>\n",
       "      <td>OUT017</td>\n",
       "      <td>2007</td>\n",
       "      <td>NaN</td>\n",
       "      <td>Tier 2</td>\n",
       "      <td>Supermarket Type1</td>\n",
       "      <td>test</td>\n",
       "      <td>0.0000</td>\n",
       "    </tr>\n",
       "    <tr>\n",
       "      <th>4</th>\n",
       "      <td>FDY38</td>\n",
       "      <td>NaN</td>\n",
       "      <td>Regular</td>\n",
       "      <td>0.118599</td>\n",
       "      <td>Dairy</td>\n",
       "      <td>234.2300</td>\n",
       "      <td>OUT027</td>\n",
       "      <td>1985</td>\n",
       "      <td>Medium</td>\n",
       "      <td>Tier 3</td>\n",
       "      <td>Supermarket Type3</td>\n",
       "      <td>test</td>\n",
       "      <td>0.0000</td>\n",
       "    </tr>\n",
       "    <tr>\n",
       "      <th>...</th>\n",
       "      <td>...</td>\n",
       "      <td>...</td>\n",
       "      <td>...</td>\n",
       "      <td>...</td>\n",
       "      <td>...</td>\n",
       "      <td>...</td>\n",
       "      <td>...</td>\n",
       "      <td>...</td>\n",
       "      <td>...</td>\n",
       "      <td>...</td>\n",
       "      <td>...</td>\n",
       "      <td>...</td>\n",
       "      <td>...</td>\n",
       "    </tr>\n",
       "    <tr>\n",
       "      <th>14199</th>\n",
       "      <td>FDF22</td>\n",
       "      <td>6.865</td>\n",
       "      <td>Low Fat</td>\n",
       "      <td>0.056783</td>\n",
       "      <td>Snack Foods</td>\n",
       "      <td>214.5218</td>\n",
       "      <td>OUT013</td>\n",
       "      <td>1987</td>\n",
       "      <td>High</td>\n",
       "      <td>Tier 3</td>\n",
       "      <td>Supermarket Type1</td>\n",
       "      <td>train</td>\n",
       "      <td>2778.3834</td>\n",
       "    </tr>\n",
       "    <tr>\n",
       "      <th>14200</th>\n",
       "      <td>FDS36</td>\n",
       "      <td>8.380</td>\n",
       "      <td>Regular</td>\n",
       "      <td>0.046982</td>\n",
       "      <td>Baking Goods</td>\n",
       "      <td>108.1570</td>\n",
       "      <td>OUT045</td>\n",
       "      <td>2002</td>\n",
       "      <td>NaN</td>\n",
       "      <td>Tier 2</td>\n",
       "      <td>Supermarket Type1</td>\n",
       "      <td>train</td>\n",
       "      <td>549.2850</td>\n",
       "    </tr>\n",
       "    <tr>\n",
       "      <th>14201</th>\n",
       "      <td>NCJ29</td>\n",
       "      <td>10.600</td>\n",
       "      <td>Low Fat</td>\n",
       "      <td>0.035186</td>\n",
       "      <td>Health and Hygiene</td>\n",
       "      <td>85.1224</td>\n",
       "      <td>OUT035</td>\n",
       "      <td>2004</td>\n",
       "      <td>Small</td>\n",
       "      <td>Tier 2</td>\n",
       "      <td>Supermarket Type1</td>\n",
       "      <td>train</td>\n",
       "      <td>1193.1136</td>\n",
       "    </tr>\n",
       "    <tr>\n",
       "      <th>14202</th>\n",
       "      <td>FDN46</td>\n",
       "      <td>7.210</td>\n",
       "      <td>Regular</td>\n",
       "      <td>0.145221</td>\n",
       "      <td>Snack Foods</td>\n",
       "      <td>103.1332</td>\n",
       "      <td>OUT018</td>\n",
       "      <td>2009</td>\n",
       "      <td>Medium</td>\n",
       "      <td>Tier 3</td>\n",
       "      <td>Supermarket Type2</td>\n",
       "      <td>train</td>\n",
       "      <td>1845.5976</td>\n",
       "    </tr>\n",
       "    <tr>\n",
       "      <th>14203</th>\n",
       "      <td>DRG01</td>\n",
       "      <td>14.800</td>\n",
       "      <td>Low Fat</td>\n",
       "      <td>0.044878</td>\n",
       "      <td>Soft Drinks</td>\n",
       "      <td>75.4670</td>\n",
       "      <td>OUT046</td>\n",
       "      <td>1997</td>\n",
       "      <td>Small</td>\n",
       "      <td>Tier 1</td>\n",
       "      <td>Supermarket Type1</td>\n",
       "      <td>train</td>\n",
       "      <td>765.6700</td>\n",
       "    </tr>\n",
       "  </tbody>\n",
       "</table>\n",
       "<p>14204 rows × 13 columns</p>\n",
       "</div>"
      ],
      "text/plain": [
       "      Item_Identifier  Item_Weight Item_Fat_Content  Item_Visibility  \\\n",
       "0               FDW58       20.750          Low Fat         0.007565   \n",
       "1               FDW14        8.300              reg         0.038428   \n",
       "2               NCN55       14.600          Low Fat         0.099575   \n",
       "3               FDQ58        7.315          Low Fat         0.015388   \n",
       "4               FDY38          NaN          Regular         0.118599   \n",
       "...               ...          ...              ...              ...   \n",
       "14199           FDF22        6.865          Low Fat         0.056783   \n",
       "14200           FDS36        8.380          Regular         0.046982   \n",
       "14201           NCJ29       10.600          Low Fat         0.035186   \n",
       "14202           FDN46        7.210          Regular         0.145221   \n",
       "14203           DRG01       14.800          Low Fat         0.044878   \n",
       "\n",
       "                Item_Type  Item_MRP Outlet_Identifier  \\\n",
       "0             Snack Foods  107.8622            OUT049   \n",
       "1                   Dairy   87.3198            OUT017   \n",
       "2                  Others  241.7538            OUT010   \n",
       "3             Snack Foods  155.0340            OUT017   \n",
       "4                   Dairy  234.2300            OUT027   \n",
       "...                   ...       ...               ...   \n",
       "14199         Snack Foods  214.5218            OUT013   \n",
       "14200        Baking Goods  108.1570            OUT045   \n",
       "14201  Health and Hygiene   85.1224            OUT035   \n",
       "14202         Snack Foods  103.1332            OUT018   \n",
       "14203         Soft Drinks   75.4670            OUT046   \n",
       "\n",
       "       Outlet_Establishment_Year Outlet_Size Outlet_Location_Type  \\\n",
       "0                           1999      Medium               Tier 1   \n",
       "1                           2007         NaN               Tier 2   \n",
       "2                           1998         NaN               Tier 3   \n",
       "3                           2007         NaN               Tier 2   \n",
       "4                           1985      Medium               Tier 3   \n",
       "...                          ...         ...                  ...   \n",
       "14199                       1987        High               Tier 3   \n",
       "14200                       2002         NaN               Tier 2   \n",
       "14201                       2004       Small               Tier 2   \n",
       "14202                       2009      Medium               Tier 3   \n",
       "14203                       1997       Small               Tier 1   \n",
       "\n",
       "             Outlet_Type source  Item_Outlet_Sales  \n",
       "0      Supermarket Type1   test             0.0000  \n",
       "1      Supermarket Type1   test             0.0000  \n",
       "2          Grocery Store   test             0.0000  \n",
       "3      Supermarket Type1   test             0.0000  \n",
       "4      Supermarket Type3   test             0.0000  \n",
       "...                  ...    ...                ...  \n",
       "14199  Supermarket Type1  train          2778.3834  \n",
       "14200  Supermarket Type1  train           549.2850  \n",
       "14201  Supermarket Type1  train          1193.1136  \n",
       "14202  Supermarket Type2  train          1845.5976  \n",
       "14203  Supermarket Type1  train           765.6700  \n",
       "\n",
       "[14204 rows x 13 columns]"
      ]
     },
     "execution_count": 9,
     "metadata": {},
     "output_type": "execute_result"
    }
   ],
   "source": [
    "df"
   ]
  },
  {
   "cell_type": "code",
   "execution_count": 10,
   "id": "d60ab2f9",
   "metadata": {},
   "outputs": [
    {
     "data": {
      "text/plain": [
       "Index(['Item_Identifier', 'Item_Weight', 'Item_Fat_Content', 'Item_Visibility',\n",
       "       'Item_Type', 'Item_MRP', 'Outlet_Identifier',\n",
       "       'Outlet_Establishment_Year', 'Outlet_Size', 'Outlet_Location_Type',\n",
       "       'Outlet_Type', 'source', 'Item_Outlet_Sales'],\n",
       "      dtype='object')"
      ]
     },
     "execution_count": 10,
     "metadata": {},
     "output_type": "execute_result"
    }
   ],
   "source": [
    "df.columns"
   ]
  },
  {
   "cell_type": "code",
   "execution_count": 11,
   "id": "c76aa2b2",
   "metadata": {},
   "outputs": [
    {
     "name": "stdout",
     "output_type": "stream",
     "text": [
      "<class 'pandas.core.frame.DataFrame'>\n",
      "RangeIndex: 14204 entries, 0 to 14203\n",
      "Data columns (total 13 columns):\n",
      " #   Column                     Non-Null Count  Dtype  \n",
      "---  ------                     --------------  -----  \n",
      " 0   Item_Identifier            14204 non-null  object \n",
      " 1   Item_Weight                11765 non-null  float64\n",
      " 2   Item_Fat_Content           14204 non-null  object \n",
      " 3   Item_Visibility            14204 non-null  float64\n",
      " 4   Item_Type                  14204 non-null  object \n",
      " 5   Item_MRP                   14204 non-null  float64\n",
      " 6   Outlet_Identifier          14204 non-null  object \n",
      " 7   Outlet_Establishment_Year  14204 non-null  int64  \n",
      " 8   Outlet_Size                10188 non-null  object \n",
      " 9   Outlet_Location_Type       14204 non-null  object \n",
      " 10  Outlet_Type                14204 non-null  object \n",
      " 11  source                     14204 non-null  object \n",
      " 12  Item_Outlet_Sales          14204 non-null  float64\n",
      "dtypes: float64(4), int64(1), object(8)\n",
      "memory usage: 1.4+ MB\n"
     ]
    }
   ],
   "source": [
    "df.info()"
   ]
  },
  {
   "cell_type": "code",
   "execution_count": 12,
   "id": "23e188da",
   "metadata": {},
   "outputs": [
    {
     "data": {
      "text/plain": [
       "Item_Identifier                 0\n",
       "Item_Weight                  2439\n",
       "Item_Fat_Content                0\n",
       "Item_Visibility                 0\n",
       "Item_Type                       0\n",
       "Item_MRP                        0\n",
       "Outlet_Identifier               0\n",
       "Outlet_Establishment_Year       0\n",
       "Outlet_Size                  4016\n",
       "Outlet_Location_Type            0\n",
       "Outlet_Type                     0\n",
       "source                          0\n",
       "Item_Outlet_Sales               0\n",
       "dtype: int64"
      ]
     },
     "execution_count": 12,
     "metadata": {},
     "output_type": "execute_result"
    }
   ],
   "source": [
    "df.isnull().sum()"
   ]
  },
  {
   "cell_type": "code",
   "execution_count": 13,
   "id": "9319cf31",
   "metadata": {},
   "outputs": [],
   "source": [
    "import seaborn as sns\n",
    "import matplotlib.pyplot as plt"
   ]
  },
  {
   "cell_type": "code",
   "execution_count": 14,
   "id": "57a85d30",
   "metadata": {},
   "outputs": [
    {
     "data": {
      "text/plain": [
       "Text(0.5, 1.0, 'Outlet_Establishment_Year vs. Item_Outlet_Sales')"
      ]
     },
     "execution_count": 14,
     "metadata": {},
     "output_type": "execute_result"
    },
    {
     "data": {
      "image/png": "[encoded data removed]",
      "text/plain": [
       "<Figure size 432x288 with 1 Axes>"
      ]
     },
     "metadata": {
      "needs_background": "light"
     },
     "output_type": "display_data"
    }
   ],
   "source": [
    "outlet=sns.barplot(x='Outlet_Establishment_Year', y='Item_Outlet_Sales', data=df, palette=\"Set1\")\n",
    "outlet.set_title(\"Outlet_Establishment_Year vs. Item_Outlet_Sales\", fontsize=15)"
   ]
  },
  {
   "cell_type": "code",
   "execution_count": 15,
   "id": "499530f6",
   "metadata": {},
   "outputs": [
    {
     "data": {
      "text/plain": [
       "Text(0.5, 1.0, 'Outlet_Identifier vs. Item_Outlet_Sales')"
      ]
     },
     "execution_count": 15,
     "metadata": {},
     "output_type": "execute_result"
    },
    {
     "data": {
      "image/png": "[encoded data removed]",
      "text/plain": [
       "<Figure size 1080x864 with 1 Axes>"
      ]
     },
     "metadata": {
      "needs_background": "light"
     },
     "output_type": "display_data"
    }
   ],
   "source": [
    "plt.figure(figsize = (15,12)) \n",
    "plt.subplot(211) \n",
    "OI=sns.barplot(x='Outlet_Identifier', y='Item_Outlet_Sales', data=df, palette=\"Set1\")\n",
    "OI.set_title(\"Outlet_Identifier vs. Item_Outlet_Sales\", fontsize=15)"
   ]
  },
  {
   "cell_type": "code",
   "execution_count": 16,
   "id": "7f5404c8",
   "metadata": {},
   "outputs": [
    {
     "data": {
      "image/png": "[encoded data removed]",
      "text/plain": [
       "<Figure size 1080x864 with 1 Axes>"
      ]
     },
     "metadata": {
      "needs_background": "light"
     },
     "output_type": "display_data"
    }
   ],
   "source": [
    "plt.figure(figsize = (15,12)) \n",
    "plt.subplot(312) \n",
    "item=sns.barplot(x='Item_Type', y='Item_Outlet_Sales', data=df, palette=\"Set1\")\n",
    "item.set_title(\"Item_Type vs. Item_Outlet_Sales\", fontsize=15)\n",
    "plt.setp(item.get_xticklabels(), rotation=45) \n",
    "\n",
    "\n",
    "plt.subplots_adjust(wspace = 0.1, hspace = 0.4,top = 1.2)"
   ]
  },
  {
   "cell_type": "code",
   "execution_count": 19,
   "id": "d2eb085e",
   "metadata": {},
   "outputs": [
    {
     "data": {
      "text/plain": [
       "<AxesSubplot:xlabel='Outlet_Type', ylabel='Item_Outlet_Sales'>"
      ]
     },
     "execution_count": 19,
     "metadata": {},
     "output_type": "execute_result"
    },
    {
     "data": {
      "image/png": "[encoded data removed]",
      "text/plain": [
       "<Figure size 1080x864 with 1 Axes>"
      ]
     },
     "metadata": {
      "needs_background": "light"
     },
     "output_type": "display_data"
    }
   ],
   "source": [
    "plt.figure(figsize = (15,12)) \n",
    "plt.subplot(313) \n",
    "sns.barplot(x='Outlet_Type', y='Item_Outlet_Sales', data=df, palette=\"Set1\")"
   ]
  },
  {
   "cell_type": "code",
   "execution_count": 20,
   "id": "fe3d5d92",
   "metadata": {},
   "outputs": [
    {
     "data": {
      "image/png": "[encoded data removed]",
      "text/plain": [
       "<Figure size 576x504 with 1 Axes>"
      ]
     },
     "metadata": {
      "needs_background": "light"
     },
     "output_type": "display_data"
    }
   ],
   "source": [
    "plt.figure(figsize = (8,7)) \n",
    "\n",
    "plt.subplot(311)\n",
    "sns.barplot(x='Outlet_Size', y='Item_Outlet_Sales', data=df, palette=\"Set1\")\n",
    "plt.subplots_adjust(wspace = 0.2, hspace = 0.4,top = 1.4) "
   ]
  },
  {
   "cell_type": "code",
   "execution_count": 21,
   "id": "294cb677",
   "metadata": {},
   "outputs": [
    {
     "data": {
      "text/plain": [
       "<AxesSubplot:xlabel='Item_Outlet_Sales', ylabel='Item_MRP'>"
      ]
     },
     "execution_count": 21,
     "metadata": {},
     "output_type": "execute_result"
    },
    {
     "data": {
      "image/png": "[encoded data removed]",
      "text/plain": [
       "<Figure size 432x288 with 1 Axes>"
      ]
     },
     "metadata": {
      "needs_background": "light"
     },
     "output_type": "display_data"
    }
   ],
   "source": [
    "sns.scatterplot(x='Item_Outlet_Sales',y='Item_MRP',data=df)"
   ]
  },
  {
   "cell_type": "code",
   "execution_count": 22,
   "id": "37e9ff8b",
   "metadata": {},
   "outputs": [
    {
     "data": {
      "text/plain": [
       "<AxesSubplot:xlabel='Item_Weight', ylabel='Item_Visibility'>"
      ]
     },
     "execution_count": 22,
     "metadata": {},
     "output_type": "execute_result"
    },
    {
     "data": {
      "image/png": "[encoded data removed]",
      "text/plain": [
       "<Figure size 432x288 with 1 Axes>"
      ]
     },
     "metadata": {
      "needs_background": "light"
     },
     "output_type": "display_data"
    }
   ],
   "source": [
    "sns.scatterplot(x='Item_Weight',y='Item_Visibility',data=df)"
   ]
  },
  {
   "cell_type": "code",
   "execution_count": 23,
   "id": "cdf9f8f7",
   "metadata": {},
   "outputs": [
    {
     "data": {
      "text/plain": [
       "<AxesSubplot:xlabel='Item_Outlet_Sales'>"
      ]
     },
     "execution_count": 23,
     "metadata": {},
     "output_type": "execute_result"
    },
    {
     "data": {
      "image/png": "[encoded data removed]",
      "text/plain": [
       "<Figure size 432x288 with 1 Axes>"
      ]
     },
     "metadata": {
      "needs_background": "light"
     },
     "output_type": "display_data"
    }
   ],
   "source": [
    "sns.violinplot(x='Item_Outlet_Sales',data=df)\n"
   ]
  },
  {
   "cell_type": "code",
   "execution_count": 24,
   "id": "ab8d9834",
   "metadata": {},
   "outputs": [
    {
     "data": {
      "text/plain": [
       "<AxesSubplot:xlabel='Item_MRP'>"
      ]
     },
     "execution_count": 24,
     "metadata": {},
     "output_type": "execute_result"
    },
    {
     "data": {
      "image/png": "[encoded data removed]",
      "text/plain": [
       "<Figure size 432x288 with 1 Axes>"
      ]
     },
     "metadata": {
      "needs_background": "light"
     },
     "output_type": "display_data"
    }
   ],
   "source": [
    "sns.violinplot(x='Item_MRP',data=df)"
   ]
  },
  {
   "cell_type": "code",
   "execution_count": 25,
   "id": "7f60efee",
   "metadata": {},
   "outputs": [
    {
     "data": {
      "text/html": [
       "<div>\n",
       "<style scoped>\n",
       "    .dataframe tbody tr th:only-of-type {\n",
       "        vertical-align: middle;\n",
       "    }\n",
       "\n",
       "    .dataframe tbody tr th {\n",
       "        vertical-align: top;\n",
       "    }\n",
       "\n",
       "    .dataframe thead th {\n",
       "        text-align: right;\n",
       "    }\n",
       "</style>\n",
       "<table border=\"1\" class=\"dataframe\">\n",
       "  <thead>\n",
       "    <tr style=\"text-align: right;\">\n",
       "      <th></th>\n",
       "      <th>Item_Weight</th>\n",
       "      <th>Item_Visibility</th>\n",
       "      <th>Item_MRP</th>\n",
       "      <th>Outlet_Establishment_Year</th>\n",
       "      <th>Item_Outlet_Sales</th>\n",
       "    </tr>\n",
       "  </thead>\n",
       "  <tbody>\n",
       "    <tr>\n",
       "      <th>count</th>\n",
       "      <td>11765.000000</td>\n",
       "      <td>14204.000000</td>\n",
       "      <td>14204.000000</td>\n",
       "      <td>14204.000000</td>\n",
       "      <td>14204.000000</td>\n",
       "    </tr>\n",
       "    <tr>\n",
       "      <th>mean</th>\n",
       "      <td>12.792854</td>\n",
       "      <td>0.065953</td>\n",
       "      <td>141.004977</td>\n",
       "      <td>1997.830681</td>\n",
       "      <td>1308.865489</td>\n",
       "    </tr>\n",
       "    <tr>\n",
       "      <th>std</th>\n",
       "      <td>4.652502</td>\n",
       "      <td>0.051459</td>\n",
       "      <td>62.086938</td>\n",
       "      <td>8.371664</td>\n",
       "      <td>1699.791423</td>\n",
       "    </tr>\n",
       "    <tr>\n",
       "      <th>min</th>\n",
       "      <td>4.555000</td>\n",
       "      <td>0.000000</td>\n",
       "      <td>31.290000</td>\n",
       "      <td>1985.000000</td>\n",
       "      <td>0.000000</td>\n",
       "    </tr>\n",
       "    <tr>\n",
       "      <th>25%</th>\n",
       "      <td>8.710000</td>\n",
       "      <td>0.027036</td>\n",
       "      <td>94.012000</td>\n",
       "      <td>1987.000000</td>\n",
       "      <td>0.000000</td>\n",
       "    </tr>\n",
       "    <tr>\n",
       "      <th>50%</th>\n",
       "      <td>12.600000</td>\n",
       "      <td>0.054021</td>\n",
       "      <td>142.247000</td>\n",
       "      <td>1999.000000</td>\n",
       "      <td>559.272000</td>\n",
       "    </tr>\n",
       "    <tr>\n",
       "      <th>75%</th>\n",
       "      <td>16.750000</td>\n",
       "      <td>0.094037</td>\n",
       "      <td>185.855600</td>\n",
       "      <td>2004.000000</td>\n",
       "      <td>2163.184200</td>\n",
       "    </tr>\n",
       "    <tr>\n",
       "      <th>max</th>\n",
       "      <td>21.350000</td>\n",
       "      <td>0.328391</td>\n",
       "      <td>266.888400</td>\n",
       "      <td>2009.000000</td>\n",
       "      <td>13086.964800</td>\n",
       "    </tr>\n",
       "  </tbody>\n",
       "</table>\n",
       "</div>"
      ],
      "text/plain": [
       "        Item_Weight  Item_Visibility      Item_MRP  Outlet_Establishment_Year  \\\n",
       "count  11765.000000     14204.000000  14204.000000               14204.000000   \n",
       "mean      12.792854         0.065953    141.004977                1997.830681   \n",
       "std        4.652502         0.051459     62.086938                   8.371664   \n",
       "min        4.555000         0.000000     31.290000                1985.000000   \n",
       "25%        8.710000         0.027036     94.012000                1987.000000   \n",
       "50%       12.600000         0.054021    142.247000                1999.000000   \n",
       "75%       16.750000         0.094037    185.855600                2004.000000   \n",
       "max       21.350000         0.328391    266.888400                2009.000000   \n",
       "\n",
       "       Item_Outlet_Sales  \n",
       "count       14204.000000  \n",
       "mean         1308.865489  \n",
       "std          1699.791423  \n",
       "min             0.000000  \n",
       "25%             0.000000  \n",
       "50%           559.272000  \n",
       "75%          2163.184200  \n",
       "max         13086.964800  "
      ]
     },
     "execution_count": 25,
     "metadata": {},
     "output_type": "execute_result"
    }
   ],
   "source": [
    "df.describe()"
   ]
  },
  {
   "cell_type": "code",
   "execution_count": 26,
   "id": "330471ed",
   "metadata": {},
   "outputs": [
    {
     "data": {
      "text/html": [
       "<div>\n",
       "<style scoped>\n",
       "    .dataframe tbody tr th:only-of-type {\n",
       "        vertical-align: middle;\n",
       "    }\n",
       "\n",
       "    .dataframe tbody tr th {\n",
       "        vertical-align: top;\n",
       "    }\n",
       "\n",
       "    .dataframe thead th {\n",
       "        text-align: right;\n",
       "    }\n",
       "</style>\n",
       "<table border=\"1\" class=\"dataframe\">\n",
       "  <thead>\n",
       "    <tr style=\"text-align: right;\">\n",
       "      <th></th>\n",
       "      <th>Item_Weight</th>\n",
       "      <th>Item_Visibility</th>\n",
       "      <th>Item_MRP</th>\n",
       "      <th>Outlet_Establishment_Year</th>\n",
       "      <th>Item_Outlet_Sales</th>\n",
       "    </tr>\n",
       "  </thead>\n",
       "  <tbody>\n",
       "    <tr>\n",
       "      <th>Item_Weight</th>\n",
       "      <td>1.000000</td>\n",
       "      <td>-0.015901</td>\n",
       "      <td>0.036236</td>\n",
       "      <td>0.000645</td>\n",
       "      <td>0.019447</td>\n",
       "    </tr>\n",
       "    <tr>\n",
       "      <th>Item_Visibility</th>\n",
       "      <td>-0.015901</td>\n",
       "      <td>1.000000</td>\n",
       "      <td>-0.006351</td>\n",
       "      <td>-0.083678</td>\n",
       "      <td>-0.075008</td>\n",
       "    </tr>\n",
       "    <tr>\n",
       "      <th>Item_MRP</th>\n",
       "      <td>0.036236</td>\n",
       "      <td>-0.006351</td>\n",
       "      <td>1.000000</td>\n",
       "      <td>0.000141</td>\n",
       "      <td>0.342781</td>\n",
       "    </tr>\n",
       "    <tr>\n",
       "      <th>Outlet_Establishment_Year</th>\n",
       "      <td>0.000645</td>\n",
       "      <td>-0.083678</td>\n",
       "      <td>0.000141</td>\n",
       "      <td>1.000000</td>\n",
       "      <td>-0.029489</td>\n",
       "    </tr>\n",
       "    <tr>\n",
       "      <th>Item_Outlet_Sales</th>\n",
       "      <td>0.019447</td>\n",
       "      <td>-0.075008</td>\n",
       "      <td>0.342781</td>\n",
       "      <td>-0.029489</td>\n",
       "      <td>1.000000</td>\n",
       "    </tr>\n",
       "  </tbody>\n",
       "</table>\n",
       "</div>"
      ],
      "text/plain": [
       "                           Item_Weight  Item_Visibility  Item_MRP  \\\n",
       "Item_Weight                   1.000000        -0.015901  0.036236   \n",
       "Item_Visibility              -0.015901         1.000000 -0.006351   \n",
       "Item_MRP                      0.036236        -0.006351  1.000000   \n",
       "Outlet_Establishment_Year     0.000645        -0.083678  0.000141   \n",
       "Item_Outlet_Sales             0.019447        -0.075008  0.342781   \n",
       "\n",
       "                           Outlet_Establishment_Year  Item_Outlet_Sales  \n",
       "Item_Weight                                 0.000645           0.019447  \n",
       "Item_Visibility                            -0.083678          -0.075008  \n",
       "Item_MRP                                    0.000141           0.342781  \n",
       "Outlet_Establishment_Year                   1.000000          -0.029489  \n",
       "Item_Outlet_Sales                          -0.029489           1.000000  "
      ]
     },
     "execution_count": 26,
     "metadata": {},
     "output_type": "execute_result"
    }
   ],
   "source": [
    "corr=df.corr()\n",
    "corr"
   ]
  },
  {
   "cell_type": "code",
   "execution_count": 27,
   "id": "06c15833",
   "metadata": {},
   "outputs": [
    {
     "data": {
      "image/png": "[encoded data removed]",
      "text/plain": [
       "<Figure size 576x504 with 2 Axes>"
      ]
     },
     "metadata": {
      "needs_background": "light"
     },
     "output_type": "display_data"
    }
   ],
   "source": [
    "plt.figure(figsize=(8,7))\n",
    "sns.heatmap(corr,linewidth=0.5,linecolor='black',cmap='Blues',annot=True)\n",
    "plt.show()"
   ]
  },
  {
   "cell_type": "code",
   "execution_count": 28,
   "id": "4ed8aac4",
   "metadata": {},
   "outputs": [
    {
     "data": {
      "text/plain": [
       "count    14204.000000\n",
       "mean        15.169319\n",
       "std          8.371664\n",
       "min          4.000000\n",
       "25%          9.000000\n",
       "50%         14.000000\n",
       "75%         26.000000\n",
       "max         28.000000\n",
       "Name: Outlet_Years, dtype: float64"
      ]
     },
     "execution_count": 28,
     "metadata": {},
     "output_type": "execute_result"
    }
   ],
   "source": [
    "df['Outlet_Years'] = 2013 - df['Outlet_Establishment_Year']\n",
    "df['Outlet_Years'].describe().T"
   ]
  },
  {
   "cell_type": "code",
   "execution_count": 29,
   "id": "d9bbc9a9",
   "metadata": {},
   "outputs": [
    {
     "data": {
      "text/html": [
       "<div>\n",
       "<style scoped>\n",
       "    .dataframe tbody tr th:only-of-type {\n",
       "        vertical-align: middle;\n",
       "    }\n",
       "\n",
       "    .dataframe tbody tr th {\n",
       "        vertical-align: top;\n",
       "    }\n",
       "\n",
       "    .dataframe thead th {\n",
       "        text-align: right;\n",
       "    }\n",
       "</style>\n",
       "<table border=\"1\" class=\"dataframe\">\n",
       "  <thead>\n",
       "    <tr style=\"text-align: right;\">\n",
       "      <th></th>\n",
       "      <th>Item_Identifier</th>\n",
       "      <th>Item_Weight</th>\n",
       "      <th>Item_Fat_Content</th>\n",
       "      <th>Item_Visibility</th>\n",
       "      <th>Item_Type</th>\n",
       "      <th>Item_MRP</th>\n",
       "      <th>Outlet_Identifier</th>\n",
       "      <th>Outlet_Establishment_Year</th>\n",
       "      <th>Outlet_Size</th>\n",
       "      <th>Outlet_Location_Type</th>\n",
       "      <th>Outlet_Type</th>\n",
       "      <th>source</th>\n",
       "      <th>Item_Outlet_Sales</th>\n",
       "      <th>Outlet_Years</th>\n",
       "    </tr>\n",
       "  </thead>\n",
       "  <tbody>\n",
       "    <tr>\n",
       "      <th>0</th>\n",
       "      <td>FDW58</td>\n",
       "      <td>20.750</td>\n",
       "      <td>Low Fat</td>\n",
       "      <td>0.007565</td>\n",
       "      <td>Snack Foods</td>\n",
       "      <td>107.8622</td>\n",
       "      <td>OUT049</td>\n",
       "      <td>1999</td>\n",
       "      <td>Medium</td>\n",
       "      <td>Tier 1</td>\n",
       "      <td>Supermarket Type1</td>\n",
       "      <td>test</td>\n",
       "      <td>0.0</td>\n",
       "      <td>14</td>\n",
       "    </tr>\n",
       "    <tr>\n",
       "      <th>1</th>\n",
       "      <td>FDW14</td>\n",
       "      <td>8.300</td>\n",
       "      <td>reg</td>\n",
       "      <td>0.038428</td>\n",
       "      <td>Dairy</td>\n",
       "      <td>87.3198</td>\n",
       "      <td>OUT017</td>\n",
       "      <td>2007</td>\n",
       "      <td>NaN</td>\n",
       "      <td>Tier 2</td>\n",
       "      <td>Supermarket Type1</td>\n",
       "      <td>test</td>\n",
       "      <td>0.0</td>\n",
       "      <td>6</td>\n",
       "    </tr>\n",
       "    <tr>\n",
       "      <th>2</th>\n",
       "      <td>NCN55</td>\n",
       "      <td>14.600</td>\n",
       "      <td>Low Fat</td>\n",
       "      <td>0.099575</td>\n",
       "      <td>Others</td>\n",
       "      <td>241.7538</td>\n",
       "      <td>OUT010</td>\n",
       "      <td>1998</td>\n",
       "      <td>NaN</td>\n",
       "      <td>Tier 3</td>\n",
       "      <td>Grocery Store</td>\n",
       "      <td>test</td>\n",
       "      <td>0.0</td>\n",
       "      <td>15</td>\n",
       "    </tr>\n",
       "    <tr>\n",
       "      <th>3</th>\n",
       "      <td>FDQ58</td>\n",
       "      <td>7.315</td>\n",
       "      <td>Low Fat</td>\n",
       "      <td>0.015388</td>\n",
       "      <td>Snack Foods</td>\n",
       "      <td>155.0340</td>\n",
       "      <td>OUT017</td>\n",
       "      <td>2007</td>\n",
       "      <td>NaN</td>\n",
       "      <td>Tier 2</td>\n",
       "      <td>Supermarket Type1</td>\n",
       "      <td>test</td>\n",
       "      <td>0.0</td>\n",
       "      <td>6</td>\n",
       "    </tr>\n",
       "    <tr>\n",
       "      <th>4</th>\n",
       "      <td>FDY38</td>\n",
       "      <td>NaN</td>\n",
       "      <td>Regular</td>\n",
       "      <td>0.118599</td>\n",
       "      <td>Dairy</td>\n",
       "      <td>234.2300</td>\n",
       "      <td>OUT027</td>\n",
       "      <td>1985</td>\n",
       "      <td>Medium</td>\n",
       "      <td>Tier 3</td>\n",
       "      <td>Supermarket Type3</td>\n",
       "      <td>test</td>\n",
       "      <td>0.0</td>\n",
       "      <td>28</td>\n",
       "    </tr>\n",
       "  </tbody>\n",
       "</table>\n",
       "</div>"
      ],
      "text/plain": [
       "  Item_Identifier  Item_Weight Item_Fat_Content  Item_Visibility    Item_Type  \\\n",
       "0           FDW58       20.750          Low Fat         0.007565  Snack Foods   \n",
       "1           FDW14        8.300              reg         0.038428        Dairy   \n",
       "2           NCN55       14.600          Low Fat         0.099575       Others   \n",
       "3           FDQ58        7.315          Low Fat         0.015388  Snack Foods   \n",
       "4           FDY38          NaN          Regular         0.118599        Dairy   \n",
       "\n",
       "   Item_MRP Outlet_Identifier  Outlet_Establishment_Year Outlet_Size  \\\n",
       "0  107.8622            OUT049                       1999      Medium   \n",
       "1   87.3198            OUT017                       2007         NaN   \n",
       "2  241.7538            OUT010                       1998         NaN   \n",
       "3  155.0340            OUT017                       2007         NaN   \n",
       "4  234.2300            OUT027                       1985      Medium   \n",
       "\n",
       "  Outlet_Location_Type        Outlet_Type source  Item_Outlet_Sales  \\\n",
       "0               Tier 1  Supermarket Type1   test                0.0   \n",
       "1               Tier 2  Supermarket Type1   test                0.0   \n",
       "2               Tier 3      Grocery Store   test                0.0   \n",
       "3               Tier 2  Supermarket Type1   test                0.0   \n",
       "4               Tier 3  Supermarket Type3   test                0.0   \n",
       "\n",
       "   Outlet_Years  \n",
       "0            14  \n",
       "1             6  \n",
       "2            15  \n",
       "3             6  \n",
       "4            28  "
      ]
     },
     "execution_count": 29,
     "metadata": {},
     "output_type": "execute_result"
    }
   ],
   "source": [
    "df.head()"
   ]
  },
  {
   "cell_type": "code",
   "execution_count": 30,
   "id": "f0002681",
   "metadata": {},
   "outputs": [
    {
     "data": {
      "text/plain": [
       "Item_Identifier                 0\n",
       "Item_Weight                  2439\n",
       "Item_Fat_Content                0\n",
       "Item_Visibility                 0\n",
       "Item_Type                       0\n",
       "Item_MRP                        0\n",
       "Outlet_Identifier               0\n",
       "Outlet_Establishment_Year       0\n",
       "Outlet_Size                  4016\n",
       "Outlet_Location_Type            0\n",
       "Outlet_Type                     0\n",
       "source                          0\n",
       "Item_Outlet_Sales               0\n",
       "Outlet_Years                    0\n",
       "dtype: int64"
      ]
     },
     "execution_count": 30,
     "metadata": {},
     "output_type": "execute_result"
    }
   ],
   "source": [
    "df.isnull().sum()"
   ]
  },
  {
   "cell_type": "code",
   "execution_count": 32,
   "id": "e434c977",
   "metadata": {},
   "outputs": [],
   "source": [
    "import numpy as np\n",
    "df['Item_Weight']=df['Item_Weight'].replace(np.NaN,df['Item_Weight'].mean())"
   ]
  },
  {
   "cell_type": "code",
   "execution_count": 34,
   "id": "c7a8d799",
   "metadata": {},
   "outputs": [
    {
     "data": {
      "text/html": [
       "<div>\n",
       "<style scoped>\n",
       "    .dataframe tbody tr th:only-of-type {\n",
       "        vertical-align: middle;\n",
       "    }\n",
       "\n",
       "    .dataframe tbody tr th {\n",
       "        vertical-align: top;\n",
       "    }\n",
       "\n",
       "    .dataframe thead th {\n",
       "        text-align: right;\n",
       "    }\n",
       "</style>\n",
       "<table border=\"1\" class=\"dataframe\">\n",
       "  <thead>\n",
       "    <tr style=\"text-align: right;\">\n",
       "      <th></th>\n",
       "      <th>Item_Identifier</th>\n",
       "      <th>Item_Weight</th>\n",
       "      <th>Item_Fat_Content</th>\n",
       "      <th>Item_Visibility</th>\n",
       "      <th>Item_Type</th>\n",
       "      <th>Item_MRP</th>\n",
       "      <th>Outlet_Identifier</th>\n",
       "      <th>Outlet_Establishment_Year</th>\n",
       "      <th>Outlet_Size</th>\n",
       "      <th>Outlet_Location_Type</th>\n",
       "      <th>Outlet_Type</th>\n",
       "      <th>source</th>\n",
       "      <th>Item_Outlet_Sales</th>\n",
       "      <th>Outlet_Years</th>\n",
       "    </tr>\n",
       "  </thead>\n",
       "  <tbody>\n",
       "    <tr>\n",
       "      <th>0</th>\n",
       "      <td>FDW58</td>\n",
       "      <td>20.750000</td>\n",
       "      <td>Low Fat</td>\n",
       "      <td>0.007565</td>\n",
       "      <td>Snack Foods</td>\n",
       "      <td>107.8622</td>\n",
       "      <td>OUT049</td>\n",
       "      <td>1999</td>\n",
       "      <td>Medium</td>\n",
       "      <td>Tier 1</td>\n",
       "      <td>Supermarket Type1</td>\n",
       "      <td>test</td>\n",
       "      <td>0.0000</td>\n",
       "      <td>14</td>\n",
       "    </tr>\n",
       "    <tr>\n",
       "      <th>1</th>\n",
       "      <td>FDW14</td>\n",
       "      <td>8.300000</td>\n",
       "      <td>reg</td>\n",
       "      <td>0.038428</td>\n",
       "      <td>Dairy</td>\n",
       "      <td>87.3198</td>\n",
       "      <td>OUT017</td>\n",
       "      <td>2007</td>\n",
       "      <td>Medium</td>\n",
       "      <td>Tier 2</td>\n",
       "      <td>Supermarket Type1</td>\n",
       "      <td>test</td>\n",
       "      <td>0.0000</td>\n",
       "      <td>6</td>\n",
       "    </tr>\n",
       "    <tr>\n",
       "      <th>2</th>\n",
       "      <td>NCN55</td>\n",
       "      <td>14.600000</td>\n",
       "      <td>Low Fat</td>\n",
       "      <td>0.099575</td>\n",
       "      <td>Others</td>\n",
       "      <td>241.7538</td>\n",
       "      <td>OUT010</td>\n",
       "      <td>1998</td>\n",
       "      <td>Medium</td>\n",
       "      <td>Tier 3</td>\n",
       "      <td>Grocery Store</td>\n",
       "      <td>test</td>\n",
       "      <td>0.0000</td>\n",
       "      <td>15</td>\n",
       "    </tr>\n",
       "    <tr>\n",
       "      <th>3</th>\n",
       "      <td>FDQ58</td>\n",
       "      <td>7.315000</td>\n",
       "      <td>Low Fat</td>\n",
       "      <td>0.015388</td>\n",
       "      <td>Snack Foods</td>\n",
       "      <td>155.0340</td>\n",
       "      <td>OUT017</td>\n",
       "      <td>2007</td>\n",
       "      <td>Medium</td>\n",
       "      <td>Tier 2</td>\n",
       "      <td>Supermarket Type1</td>\n",
       "      <td>test</td>\n",
       "      <td>0.0000</td>\n",
       "      <td>6</td>\n",
       "    </tr>\n",
       "    <tr>\n",
       "      <th>4</th>\n",
       "      <td>FDY38</td>\n",
       "      <td>12.792854</td>\n",
       "      <td>Regular</td>\n",
       "      <td>0.118599</td>\n",
       "      <td>Dairy</td>\n",
       "      <td>234.2300</td>\n",
       "      <td>OUT027</td>\n",
       "      <td>1985</td>\n",
       "      <td>Medium</td>\n",
       "      <td>Tier 3</td>\n",
       "      <td>Supermarket Type3</td>\n",
       "      <td>test</td>\n",
       "      <td>0.0000</td>\n",
       "      <td>28</td>\n",
       "    </tr>\n",
       "    <tr>\n",
       "      <th>...</th>\n",
       "      <td>...</td>\n",
       "      <td>...</td>\n",
       "      <td>...</td>\n",
       "      <td>...</td>\n",
       "      <td>...</td>\n",
       "      <td>...</td>\n",
       "      <td>...</td>\n",
       "      <td>...</td>\n",
       "      <td>...</td>\n",
       "      <td>...</td>\n",
       "      <td>...</td>\n",
       "      <td>...</td>\n",
       "      <td>...</td>\n",
       "      <td>...</td>\n",
       "    </tr>\n",
       "    <tr>\n",
       "      <th>14199</th>\n",
       "      <td>FDF22</td>\n",
       "      <td>6.865000</td>\n",
       "      <td>Low Fat</td>\n",
       "      <td>0.056783</td>\n",
       "      <td>Snack Foods</td>\n",
       "      <td>214.5218</td>\n",
       "      <td>OUT013</td>\n",
       "      <td>1987</td>\n",
       "      <td>High</td>\n",
       "      <td>Tier 3</td>\n",
       "      <td>Supermarket Type1</td>\n",
       "      <td>train</td>\n",
       "      <td>2778.3834</td>\n",
       "      <td>26</td>\n",
       "    </tr>\n",
       "    <tr>\n",
       "      <th>14200</th>\n",
       "      <td>FDS36</td>\n",
       "      <td>8.380000</td>\n",
       "      <td>Regular</td>\n",
       "      <td>0.046982</td>\n",
       "      <td>Baking Goods</td>\n",
       "      <td>108.1570</td>\n",
       "      <td>OUT045</td>\n",
       "      <td>2002</td>\n",
       "      <td>Medium</td>\n",
       "      <td>Tier 2</td>\n",
       "      <td>Supermarket Type1</td>\n",
       "      <td>train</td>\n",
       "      <td>549.2850</td>\n",
       "      <td>11</td>\n",
       "    </tr>\n",
       "    <tr>\n",
       "      <th>14201</th>\n",
       "      <td>NCJ29</td>\n",
       "      <td>10.600000</td>\n",
       "      <td>Low Fat</td>\n",
       "      <td>0.035186</td>\n",
       "      <td>Health and Hygiene</td>\n",
       "      <td>85.1224</td>\n",
       "      <td>OUT035</td>\n",
       "      <td>2004</td>\n",
       "      <td>Small</td>\n",
       "      <td>Tier 2</td>\n",
       "      <td>Supermarket Type1</td>\n",
       "      <td>train</td>\n",
       "      <td>1193.1136</td>\n",
       "      <td>9</td>\n",
       "    </tr>\n",
       "    <tr>\n",
       "      <th>14202</th>\n",
       "      <td>FDN46</td>\n",
       "      <td>7.210000</td>\n",
       "      <td>Regular</td>\n",
       "      <td>0.145221</td>\n",
       "      <td>Snack Foods</td>\n",
       "      <td>103.1332</td>\n",
       "      <td>OUT018</td>\n",
       "      <td>2009</td>\n",
       "      <td>Medium</td>\n",
       "      <td>Tier 3</td>\n",
       "      <td>Supermarket Type2</td>\n",
       "      <td>train</td>\n",
       "      <td>1845.5976</td>\n",
       "      <td>4</td>\n",
       "    </tr>\n",
       "    <tr>\n",
       "      <th>14203</th>\n",
       "      <td>DRG01</td>\n",
       "      <td>14.800000</td>\n",
       "      <td>Low Fat</td>\n",
       "      <td>0.044878</td>\n",
       "      <td>Soft Drinks</td>\n",
       "      <td>75.4670</td>\n",
       "      <td>OUT046</td>\n",
       "      <td>1997</td>\n",
       "      <td>Small</td>\n",
       "      <td>Tier 1</td>\n",
       "      <td>Supermarket Type1</td>\n",
       "      <td>train</td>\n",
       "      <td>765.6700</td>\n",
       "      <td>16</td>\n",
       "    </tr>\n",
       "  </tbody>\n",
       "</table>\n",
       "<p>14204 rows × 14 columns</p>\n",
       "</div>"
      ],
      "text/plain": [
       "      Item_Identifier  Item_Weight Item_Fat_Content  Item_Visibility  \\\n",
       "0               FDW58    20.750000          Low Fat         0.007565   \n",
       "1               FDW14     8.300000              reg         0.038428   \n",
       "2               NCN55    14.600000          Low Fat         0.099575   \n",
       "3               FDQ58     7.315000          Low Fat         0.015388   \n",
       "4               FDY38    12.792854          Regular         0.118599   \n",
       "...               ...          ...              ...              ...   \n",
       "14199           FDF22     6.865000          Low Fat         0.056783   \n",
       "14200           FDS36     8.380000          Regular         0.046982   \n",
       "14201           NCJ29    10.600000          Low Fat         0.035186   \n",
       "14202           FDN46     7.210000          Regular         0.145221   \n",
       "14203           DRG01    14.800000          Low Fat         0.044878   \n",
       "\n",
       "                Item_Type  Item_MRP Outlet_Identifier  \\\n",
       "0             Snack Foods  107.8622            OUT049   \n",
       "1                   Dairy   87.3198            OUT017   \n",
       "2                  Others  241.7538            OUT010   \n",
       "3             Snack Foods  155.0340            OUT017   \n",
       "4                   Dairy  234.2300            OUT027   \n",
       "...                   ...       ...               ...   \n",
       "14199         Snack Foods  214.5218            OUT013   \n",
       "14200        Baking Goods  108.1570            OUT045   \n",
       "14201  Health and Hygiene   85.1224            OUT035   \n",
       "14202         Snack Foods  103.1332            OUT018   \n",
       "14203         Soft Drinks   75.4670            OUT046   \n",
       "\n",
       "       Outlet_Establishment_Year Outlet_Size Outlet_Location_Type  \\\n",
       "0                           1999      Medium               Tier 1   \n",
       "1                           2007      Medium               Tier 2   \n",
       "2                           1998      Medium               Tier 3   \n",
       "3                           2007      Medium               Tier 2   \n",
       "4                           1985      Medium               Tier 3   \n",
       "...                          ...         ...                  ...   \n",
       "14199                       1987        High               Tier 3   \n",
       "14200                       2002      Medium               Tier 2   \n",
       "14201                       2004       Small               Tier 2   \n",
       "14202                       2009      Medium               Tier 3   \n",
       "14203                       1997       Small               Tier 1   \n",
       "\n",
       "             Outlet_Type source  Item_Outlet_Sales  Outlet_Years  \n",
       "0      Supermarket Type1   test             0.0000            14  \n",
       "1      Supermarket Type1   test             0.0000             6  \n",
       "2          Grocery Store   test             0.0000            15  \n",
       "3      Supermarket Type1   test             0.0000             6  \n",
       "4      Supermarket Type3   test             0.0000            28  \n",
       "...                  ...    ...                ...           ...  \n",
       "14199  Supermarket Type1  train          2778.3834            26  \n",
       "14200  Supermarket Type1  train           549.2850            11  \n",
       "14201  Supermarket Type1  train          1193.1136             9  \n",
       "14202  Supermarket Type2  train          1845.5976             4  \n",
       "14203  Supermarket Type1  train           765.6700            16  \n",
       "\n",
       "[14204 rows x 14 columns]"
      ]
     },
     "execution_count": 34,
     "metadata": {},
     "output_type": "execute_result"
    }
   ],
   "source": [
    "from sklearn.impute import SimpleImputer\n",
    "SI = SimpleImputer(strategy='most_frequent')\n",
    "df['Outlet_Size']=SI.fit_transform(df['Outlet_Size'].values.reshape(-1,1)) \n",
    "df"
   ]
  },
  {
   "cell_type": "code",
   "execution_count": 36,
   "id": "a04056cf",
   "metadata": {},
   "outputs": [
    {
     "data": {
      "text/plain": [
       "Item_Identifier              0\n",
       "Item_Weight                  0\n",
       "Item_Fat_Content             0\n",
       "Item_Visibility              0\n",
       "Item_Type                    0\n",
       "Item_MRP                     0\n",
       "Outlet_Identifier            0\n",
       "Outlet_Establishment_Year    0\n",
       "Outlet_Size                  0\n",
       "Outlet_Location_Type         0\n",
       "Outlet_Type                  0\n",
       "source                       0\n",
       "Item_Outlet_Sales            0\n",
       "Outlet_Years                 0\n",
       "dtype: int64"
      ]
     },
     "execution_count": 36,
     "metadata": {},
     "output_type": "execute_result"
    }
   ],
   "source": [
    "df.isnull().sum()"
   ]
  },
  {
   "cell_type": "code",
   "execution_count": 39,
   "id": "43fe8b84",
   "metadata": {},
   "outputs": [
    {
     "name": "stdout",
     "output_type": "stream",
     "text": [
      "<class 'pandas.core.frame.DataFrame'>\n",
      "RangeIndex: 14204 entries, 0 to 14203\n",
      "Data columns (total 14 columns):\n",
      " #   Column                     Non-Null Count  Dtype  \n",
      "---  ------                     --------------  -----  \n",
      " 0   Item_Identifier            14204 non-null  int32  \n",
      " 1   Item_Weight                14204 non-null  float64\n",
      " 2   Item_Fat_Content           14204 non-null  int32  \n",
      " 3   Item_Visibility            14204 non-null  float64\n",
      " 4   Item_Type                  14204 non-null  int32  \n",
      " 5   Item_MRP                   14204 non-null  float64\n",
      " 6   Outlet_Identifier          14204 non-null  int32  \n",
      " 7   Outlet_Establishment_Year  14204 non-null  int64  \n",
      " 8   Outlet_Size                14204 non-null  int32  \n",
      " 9   Outlet_Location_Type       14204 non-null  int32  \n",
      " 10  Outlet_Type                14204 non-null  int32  \n",
      " 11  source                     14204 non-null  int32  \n",
      " 12  Item_Outlet_Sales          14204 non-null  float64\n",
      " 13  Outlet_Years               14204 non-null  int64  \n",
      "dtypes: float64(4), int32(8), int64(2)\n",
      "memory usage: 1.1 MB\n"
     ]
    }
   ],
   "source": [
    "df.info()"
   ]
  },
  {
   "cell_type": "code",
   "execution_count": 40,
   "id": "0173c19e",
   "metadata": {},
   "outputs": [],
   "source": [
    "from sklearn.preprocessing import LabelEncoder\n",
    "le = LabelEncoder()\n",
    "col = ['Item_Identifier','Item_Fat_Content','Item_Type','Outlet_Identifier','source','Outlet_Establishment_Year'\n",
    "       ,'Outlet_Location_Type','Outlet_Size','Outlet_Type']   \n",
    "for i in col:\n",
    "    df[i] = le.fit_transform(df[i])  "
   ]
  },
  {
   "cell_type": "code",
   "execution_count": 41,
   "id": "c7701a93",
   "metadata": {},
   "outputs": [
    {
     "data": {
      "text/html": [
       "<div>\n",
       "<style scoped>\n",
       "    .dataframe tbody tr th:only-of-type {\n",
       "        vertical-align: middle;\n",
       "    }\n",
       "\n",
       "    .dataframe tbody tr th {\n",
       "        vertical-align: top;\n",
       "    }\n",
       "\n",
       "    .dataframe thead th {\n",
       "        text-align: right;\n",
       "    }\n",
       "</style>\n",
       "<table border=\"1\" class=\"dataframe\">\n",
       "  <thead>\n",
       "    <tr style=\"text-align: right;\">\n",
       "      <th></th>\n",
       "      <th>Item_Identifier</th>\n",
       "      <th>Item_Weight</th>\n",
       "      <th>Item_Fat_Content</th>\n",
       "      <th>Item_Visibility</th>\n",
       "      <th>Item_Type</th>\n",
       "      <th>Item_MRP</th>\n",
       "      <th>Outlet_Identifier</th>\n",
       "      <th>Outlet_Establishment_Year</th>\n",
       "      <th>Outlet_Size</th>\n",
       "      <th>Outlet_Location_Type</th>\n",
       "      <th>Outlet_Type</th>\n",
       "      <th>source</th>\n",
       "      <th>Item_Outlet_Sales</th>\n",
       "      <th>Outlet_Years</th>\n",
       "    </tr>\n",
       "  </thead>\n",
       "  <tbody>\n",
       "    <tr>\n",
       "      <th>0</th>\n",
       "      <td>1114</td>\n",
       "      <td>20.750000</td>\n",
       "      <td>1</td>\n",
       "      <td>0.007565</td>\n",
       "      <td>13</td>\n",
       "      <td>107.8622</td>\n",
       "      <td>9</td>\n",
       "      <td>4</td>\n",
       "      <td>1</td>\n",
       "      <td>0</td>\n",
       "      <td>1</td>\n",
       "      <td>0</td>\n",
       "      <td>0.0</td>\n",
       "      <td>14</td>\n",
       "    </tr>\n",
       "    <tr>\n",
       "      <th>1</th>\n",
       "      <td>1078</td>\n",
       "      <td>8.300000</td>\n",
       "      <td>4</td>\n",
       "      <td>0.038428</td>\n",
       "      <td>4</td>\n",
       "      <td>87.3198</td>\n",
       "      <td>2</td>\n",
       "      <td>7</td>\n",
       "      <td>1</td>\n",
       "      <td>1</td>\n",
       "      <td>1</td>\n",
       "      <td>0</td>\n",
       "      <td>0.0</td>\n",
       "      <td>6</td>\n",
       "    </tr>\n",
       "    <tr>\n",
       "      <th>2</th>\n",
       "      <td>1420</td>\n",
       "      <td>14.600000</td>\n",
       "      <td>1</td>\n",
       "      <td>0.099575</td>\n",
       "      <td>11</td>\n",
       "      <td>241.7538</td>\n",
       "      <td>0</td>\n",
       "      <td>3</td>\n",
       "      <td>1</td>\n",
       "      <td>2</td>\n",
       "      <td>0</td>\n",
       "      <td>0</td>\n",
       "      <td>0.0</td>\n",
       "      <td>15</td>\n",
       "    </tr>\n",
       "    <tr>\n",
       "      <th>3</th>\n",
       "      <td>817</td>\n",
       "      <td>7.315000</td>\n",
       "      <td>1</td>\n",
       "      <td>0.015388</td>\n",
       "      <td>13</td>\n",
       "      <td>155.0340</td>\n",
       "      <td>2</td>\n",
       "      <td>7</td>\n",
       "      <td>1</td>\n",
       "      <td>1</td>\n",
       "      <td>1</td>\n",
       "      <td>0</td>\n",
       "      <td>0.0</td>\n",
       "      <td>6</td>\n",
       "    </tr>\n",
       "    <tr>\n",
       "      <th>4</th>\n",
       "      <td>1197</td>\n",
       "      <td>12.792854</td>\n",
       "      <td>2</td>\n",
       "      <td>0.118599</td>\n",
       "      <td>4</td>\n",
       "      <td>234.2300</td>\n",
       "      <td>5</td>\n",
       "      <td>0</td>\n",
       "      <td>1</td>\n",
       "      <td>2</td>\n",
       "      <td>3</td>\n",
       "      <td>0</td>\n",
       "      <td>0.0</td>\n",
       "      <td>28</td>\n",
       "    </tr>\n",
       "  </tbody>\n",
       "</table>\n",
       "</div>"
      ],
      "text/plain": [
       "   Item_Identifier  Item_Weight  Item_Fat_Content  Item_Visibility  Item_Type  \\\n",
       "0             1114    20.750000                 1         0.007565         13   \n",
       "1             1078     8.300000                 4         0.038428          4   \n",
       "2             1420    14.600000                 1         0.099575         11   \n",
       "3              817     7.315000                 1         0.015388         13   \n",
       "4             1197    12.792854                 2         0.118599          4   \n",
       "\n",
       "   Item_MRP  Outlet_Identifier  Outlet_Establishment_Year  Outlet_Size  \\\n",
       "0  107.8622                  9                          4            1   \n",
       "1   87.3198                  2                          7            1   \n",
       "2  241.7538                  0                          3            1   \n",
       "3  155.0340                  2                          7            1   \n",
       "4  234.2300                  5                          0            1   \n",
       "\n",
       "   Outlet_Location_Type  Outlet_Type  source  Item_Outlet_Sales  Outlet_Years  \n",
       "0                     0            1       0                0.0            14  \n",
       "1                     1            1       0                0.0             6  \n",
       "2                     2            0       0                0.0            15  \n",
       "3                     1            1       0                0.0             6  \n",
       "4                     2            3       0                0.0            28  "
      ]
     },
     "execution_count": 41,
     "metadata": {},
     "output_type": "execute_result"
    }
   ],
   "source": [
    "df.head()"
   ]
  },
  {
   "cell_type": "code",
   "execution_count": 42,
   "id": "17c5d245",
   "metadata": {},
   "outputs": [
    {
     "data": {
      "text/plain": [
       "Item_Identifier                int64\n",
       "Item_Weight                  float64\n",
       "Item_Fat_Content               int64\n",
       "Item_Visibility              float64\n",
       "Item_Type                      int64\n",
       "Item_MRP                     float64\n",
       "Outlet_Identifier              int64\n",
       "Outlet_Establishment_Year      int64\n",
       "Outlet_Size                    int64\n",
       "Outlet_Location_Type           int64\n",
       "Outlet_Type                    int64\n",
       "source                         int64\n",
       "Item_Outlet_Sales            float64\n",
       "Outlet_Years                   int64\n",
       "dtype: object"
      ]
     },
     "execution_count": 42,
     "metadata": {},
     "output_type": "execute_result"
    }
   ],
   "source": [
    "df.dtypes"
   ]
  },
  {
   "cell_type": "code",
   "execution_count": 43,
   "id": "a7cf5d58",
   "metadata": {},
   "outputs": [
    {
     "data": {
      "text/html": [
       "<div>\n",
       "<style scoped>\n",
       "    .dataframe tbody tr th:only-of-type {\n",
       "        vertical-align: middle;\n",
       "    }\n",
       "\n",
       "    .dataframe tbody tr th {\n",
       "        vertical-align: top;\n",
       "    }\n",
       "\n",
       "    .dataframe thead th {\n",
       "        text-align: right;\n",
       "    }\n",
       "</style>\n",
       "<table border=\"1\" class=\"dataframe\">\n",
       "  <thead>\n",
       "    <tr style=\"text-align: right;\">\n",
       "      <th></th>\n",
       "      <th>Item_Identifier</th>\n",
       "      <th>Item_Weight</th>\n",
       "      <th>Item_Fat_Content</th>\n",
       "      <th>Item_Visibility</th>\n",
       "      <th>Item_Type</th>\n",
       "      <th>Item_MRP</th>\n",
       "      <th>Outlet_Identifier</th>\n",
       "      <th>Outlet_Establishment_Year</th>\n",
       "      <th>Outlet_Size</th>\n",
       "      <th>Outlet_Location_Type</th>\n",
       "      <th>Outlet_Type</th>\n",
       "      <th>source</th>\n",
       "      <th>Item_Outlet_Sales</th>\n",
       "      <th>Outlet_Years</th>\n",
       "    </tr>\n",
       "  </thead>\n",
       "  <tbody>\n",
       "    <tr>\n",
       "      <th>Item_Identifier</th>\n",
       "      <td>1.000000</td>\n",
       "      <td>0.047101</td>\n",
       "      <td>-0.096220</td>\n",
       "      <td>-0.040775</td>\n",
       "      <td>-0.012048</td>\n",
       "      <td>0.010743</td>\n",
       "      <td>-0.001089</td>\n",
       "      <td>-0.003173</td>\n",
       "      <td>0.002581</td>\n",
       "      <td>-0.002473</td>\n",
       "      <td>-0.004532</td>\n",
       "      <td>-0.001305</td>\n",
       "      <td>0.000906</td>\n",
       "      <td>0.002954</td>\n",
       "    </tr>\n",
       "    <tr>\n",
       "      <th>Item_Weight</th>\n",
       "      <td>0.047101</td>\n",
       "      <td>1.000000</td>\n",
       "      <td>-0.027387</td>\n",
       "      <td>-0.013641</td>\n",
       "      <td>0.028637</td>\n",
       "      <td>0.033002</td>\n",
       "      <td>0.003274</td>\n",
       "      <td>0.000503</td>\n",
       "      <td>0.001580</td>\n",
       "      <td>-0.002104</td>\n",
       "      <td>0.001699</td>\n",
       "      <td>0.015526</td>\n",
       "      <td>0.016425</td>\n",
       "      <td>-0.000462</td>\n",
       "    </tr>\n",
       "    <tr>\n",
       "      <th>Item_Fat_Content</th>\n",
       "      <td>-0.096220</td>\n",
       "      <td>-0.027387</td>\n",
       "      <td>1.000000</td>\n",
       "      <td>0.033864</td>\n",
       "      <td>-0.121140</td>\n",
       "      <td>-0.006195</td>\n",
       "      <td>-0.001733</td>\n",
       "      <td>-0.002541</td>\n",
       "      <td>-0.007084</td>\n",
       "      <td>-0.002518</td>\n",
       "      <td>-0.002380</td>\n",
       "      <td>0.000442</td>\n",
       "      <td>0.006195</td>\n",
       "      <td>0.004135</td>\n",
       "    </tr>\n",
       "    <tr>\n",
       "      <th>Item_Visibility</th>\n",
       "      <td>-0.040775</td>\n",
       "      <td>-0.013641</td>\n",
       "      <td>0.033864</td>\n",
       "      <td>1.000000</td>\n",
       "      <td>-0.035646</td>\n",
       "      <td>-0.006351</td>\n",
       "      <td>-0.106181</td>\n",
       "      <td>-0.091511</td>\n",
       "      <td>0.064836</td>\n",
       "      <td>-0.017362</td>\n",
       "      <td>-0.165726</td>\n",
       "      <td>0.004267</td>\n",
       "      <td>-0.075008</td>\n",
       "      <td>0.083678</td>\n",
       "    </tr>\n",
       "    <tr>\n",
       "      <th>Item_Type</th>\n",
       "      <td>-0.012048</td>\n",
       "      <td>0.028637</td>\n",
       "      <td>-0.121140</td>\n",
       "      <td>-0.035646</td>\n",
       "      <td>1.000000</td>\n",
       "      <td>0.043948</td>\n",
       "      <td>0.001126</td>\n",
       "      <td>0.003295</td>\n",
       "      <td>-0.002608</td>\n",
       "      <td>0.002083</td>\n",
       "      <td>0.004305</td>\n",
       "      <td>-0.000782</td>\n",
       "      <td>0.009769</td>\n",
       "      <td>-0.003061</td>\n",
       "    </tr>\n",
       "    <tr>\n",
       "      <th>Item_MRP</th>\n",
       "      <td>0.010743</td>\n",
       "      <td>0.033002</td>\n",
       "      <td>-0.006195</td>\n",
       "      <td>-0.006351</td>\n",
       "      <td>0.043948</td>\n",
       "      <td>1.000000</td>\n",
       "      <td>-0.000555</td>\n",
       "      <td>0.000302</td>\n",
       "      <td>-0.001018</td>\n",
       "      <td>0.000838</td>\n",
       "      <td>0.000136</td>\n",
       "      <td>-0.000241</td>\n",
       "      <td>0.342781</td>\n",
       "      <td>-0.000141</td>\n",
       "    </tr>\n",
       "    <tr>\n",
       "      <th>Outlet_Identifier</th>\n",
       "      <td>-0.001089</td>\n",
       "      <td>0.003274</td>\n",
       "      <td>-0.001733</td>\n",
       "      <td>-0.106181</td>\n",
       "      <td>0.001126</td>\n",
       "      <td>-0.000555</td>\n",
       "      <td>1.000000</td>\n",
       "      <td>-0.030948</td>\n",
       "      <td>0.504580</td>\n",
       "      <td>-0.716151</td>\n",
       "      <td>0.099899</td>\n",
       "      <td>-0.000083</td>\n",
       "      <td>0.097733</td>\n",
       "      <td>-0.079047</td>\n",
       "    </tr>\n",
       "    <tr>\n",
       "      <th>Outlet_Establishment_Year</th>\n",
       "      <td>-0.003173</td>\n",
       "      <td>0.000503</td>\n",
       "      <td>-0.002541</td>\n",
       "      <td>-0.091511</td>\n",
       "      <td>0.003295</td>\n",
       "      <td>0.000302</td>\n",
       "      <td>-0.030948</td>\n",
       "      <td>1.000000</td>\n",
       "      <td>0.070796</td>\n",
       "      <td>0.041889</td>\n",
       "      <td>-0.040255</td>\n",
       "      <td>0.000186</td>\n",
       "      <td>-0.015260</td>\n",
       "      <td>-0.970787</td>\n",
       "    </tr>\n",
       "    <tr>\n",
       "      <th>Outlet_Size</th>\n",
       "      <td>0.002581</td>\n",
       "      <td>0.001580</td>\n",
       "      <td>-0.007084</td>\n",
       "      <td>0.064836</td>\n",
       "      <td>-0.002608</td>\n",
       "      <td>-0.001018</td>\n",
       "      <td>0.504580</td>\n",
       "      <td>0.070796</td>\n",
       "      <td>1.000000</td>\n",
       "      <td>-0.614300</td>\n",
       "      <td>-0.201505</td>\n",
       "      <td>-0.000072</td>\n",
       "      <td>-0.051962</td>\n",
       "      <td>-0.193392</td>\n",
       "    </tr>\n",
       "    <tr>\n",
       "      <th>Outlet_Location_Type</th>\n",
       "      <td>-0.002473</td>\n",
       "      <td>-0.002104</td>\n",
       "      <td>-0.002518</td>\n",
       "      <td>-0.017362</td>\n",
       "      <td>0.002083</td>\n",
       "      <td>0.000838</td>\n",
       "      <td>-0.716151</td>\n",
       "      <td>0.041889</td>\n",
       "      <td>-0.614300</td>\n",
       "      <td>1.000000</td>\n",
       "      <td>0.467251</td>\n",
       "      <td>0.000023</td>\n",
       "      <td>0.053848</td>\n",
       "      <td>0.089328</td>\n",
       "    </tr>\n",
       "    <tr>\n",
       "      <th>Outlet_Type</th>\n",
       "      <td>-0.004532</td>\n",
       "      <td>0.001699</td>\n",
       "      <td>-0.002380</td>\n",
       "      <td>-0.165726</td>\n",
       "      <td>0.004305</td>\n",
       "      <td>0.000136</td>\n",
       "      <td>0.099899</td>\n",
       "      <td>-0.040255</td>\n",
       "      <td>-0.201505</td>\n",
       "      <td>0.467251</td>\n",
       "      <td>1.000000</td>\n",
       "      <td>-0.000094</td>\n",
       "      <td>0.241785</td>\n",
       "      <td>0.122519</td>\n",
       "    </tr>\n",
       "    <tr>\n",
       "      <th>source</th>\n",
       "      <td>-0.001305</td>\n",
       "      <td>0.015526</td>\n",
       "      <td>0.000442</td>\n",
       "      <td>0.004267</td>\n",
       "      <td>-0.000782</td>\n",
       "      <td>-0.000241</td>\n",
       "      <td>-0.000083</td>\n",
       "      <td>0.000186</td>\n",
       "      <td>-0.000072</td>\n",
       "      <td>0.000023</td>\n",
       "      <td>-0.000094</td>\n",
       "      <td>1.000000</td>\n",
       "      <td>0.628682</td>\n",
       "      <td>-0.000173</td>\n",
       "    </tr>\n",
       "    <tr>\n",
       "      <th>Item_Outlet_Sales</th>\n",
       "      <td>0.000906</td>\n",
       "      <td>0.016425</td>\n",
       "      <td>0.006195</td>\n",
       "      <td>-0.075008</td>\n",
       "      <td>0.009769</td>\n",
       "      <td>0.342781</td>\n",
       "      <td>0.097733</td>\n",
       "      <td>-0.015260</td>\n",
       "      <td>-0.051962</td>\n",
       "      <td>0.053848</td>\n",
       "      <td>0.241785</td>\n",
       "      <td>0.628682</td>\n",
       "      <td>1.000000</td>\n",
       "      <td>0.029489</td>\n",
       "    </tr>\n",
       "    <tr>\n",
       "      <th>Outlet_Years</th>\n",
       "      <td>0.002954</td>\n",
       "      <td>-0.000462</td>\n",
       "      <td>0.004135</td>\n",
       "      <td>0.083678</td>\n",
       "      <td>-0.003061</td>\n",
       "      <td>-0.000141</td>\n",
       "      <td>-0.079047</td>\n",
       "      <td>-0.970787</td>\n",
       "      <td>-0.193392</td>\n",
       "      <td>0.089328</td>\n",
       "      <td>0.122519</td>\n",
       "      <td>-0.000173</td>\n",
       "      <td>0.029489</td>\n",
       "      <td>1.000000</td>\n",
       "    </tr>\n",
       "  </tbody>\n",
       "</table>\n",
       "</div>"
      ],
      "text/plain": [
       "                           Item_Identifier  Item_Weight  Item_Fat_Content  \\\n",
       "Item_Identifier                   1.000000     0.047101         -0.096220   \n",
       "Item_Weight                       0.047101     1.000000         -0.027387   \n",
       "Item_Fat_Content                 -0.096220    -0.027387          1.000000   \n",
       "Item_Visibility                  -0.040775    -0.013641          0.033864   \n",
       "Item_Type                        -0.012048     0.028637         -0.121140   \n",
       "Item_MRP                          0.010743     0.033002         -0.006195   \n",
       "Outlet_Identifier                -0.001089     0.003274         -0.001733   \n",
       "Outlet_Establishment_Year        -0.003173     0.000503         -0.002541   \n",
       "Outlet_Size                       0.002581     0.001580         -0.007084   \n",
       "Outlet_Location_Type             -0.002473    -0.002104         -0.002518   \n",
       "Outlet_Type                      -0.004532     0.001699         -0.002380   \n",
       "source                           -0.001305     0.015526          0.000442   \n",
       "Item_Outlet_Sales                 0.000906     0.016425          0.006195   \n",
       "Outlet_Years                      0.002954    -0.000462          0.004135   \n",
       "\n",
       "                           Item_Visibility  Item_Type  Item_MRP  \\\n",
       "Item_Identifier                  -0.040775  -0.012048  0.010743   \n",
       "Item_Weight                      -0.013641   0.028637  0.033002   \n",
       "Item_Fat_Content                  0.033864  -0.121140 -0.006195   \n",
       "Item_Visibility                   1.000000  -0.035646 -0.006351   \n",
       "Item_Type                        -0.035646   1.000000  0.043948   \n",
       "Item_MRP                         -0.006351   0.043948  1.000000   \n",
       "Outlet_Identifier                -0.106181   0.001126 -0.000555   \n",
       "Outlet_Establishment_Year        -0.091511   0.003295  0.000302   \n",
       "Outlet_Size                       0.064836  -0.002608 -0.001018   \n",
       "Outlet_Location_Type             -0.017362   0.002083  0.000838   \n",
       "Outlet_Type                      -0.165726   0.004305  0.000136   \n",
       "source                            0.004267  -0.000782 -0.000241   \n",
       "Item_Outlet_Sales                -0.075008   0.009769  0.342781   \n",
       "Outlet_Years                      0.083678  -0.003061 -0.000141   \n",
       "\n",
       "                           Outlet_Identifier  Outlet_Establishment_Year  \\\n",
       "Item_Identifier                    -0.001089                  -0.003173   \n",
       "Item_Weight                         0.003274                   0.000503   \n",
       "Item_Fat_Content                   -0.001733                  -0.002541   \n",
       "Item_Visibility                    -0.106181                  -0.091511   \n",
       "Item_Type                           0.001126                   0.003295   \n",
       "Item_MRP                           -0.000555                   0.000302   \n",
       "Outlet_Identifier                   1.000000                  -0.030948   \n",
       "Outlet_Establishment_Year          -0.030948                   1.000000   \n",
       "Outlet_Size                         0.504580                   0.070796   \n",
       "Outlet_Location_Type               -0.716151                   0.041889   \n",
       "Outlet_Type                         0.099899                  -0.040255   \n",
       "source                             -0.000083                   0.000186   \n",
       "Item_Outlet_Sales                   0.097733                  -0.015260   \n",
       "Outlet_Years                       -0.079047                  -0.970787   \n",
       "\n",
       "                           Outlet_Size  Outlet_Location_Type  Outlet_Type  \\\n",
       "Item_Identifier               0.002581             -0.002473    -0.004532   \n",
       "Item_Weight                   0.001580             -0.002104     0.001699   \n",
       "Item_Fat_Content             -0.007084             -0.002518    -0.002380   \n",
       "Item_Visibility               0.064836             -0.017362    -0.165726   \n",
       "Item_Type                    -0.002608              0.002083     0.004305   \n",
       "Item_MRP                     -0.001018              0.000838     0.000136   \n",
       "Outlet_Identifier             0.504580             -0.716151     0.099899   \n",
       "Outlet_Establishment_Year     0.070796              0.041889    -0.040255   \n",
       "Outlet_Size                   1.000000             -0.614300    -0.201505   \n",
       "Outlet_Location_Type         -0.614300              1.000000     0.467251   \n",
       "Outlet_Type                  -0.201505              0.467251     1.000000   \n",
       "source                       -0.000072              0.000023    -0.000094   \n",
       "Item_Outlet_Sales            -0.051962              0.053848     0.241785   \n",
       "Outlet_Years                 -0.193392              0.089328     0.122519   \n",
       "\n",
       "                             source  Item_Outlet_Sales  Outlet_Years  \n",
       "Item_Identifier           -0.001305           0.000906      0.002954  \n",
       "Item_Weight                0.015526           0.016425     -0.000462  \n",
       "Item_Fat_Content           0.000442           0.006195      0.004135  \n",
       "Item_Visibility            0.004267          -0.075008      0.083678  \n",
       "Item_Type                 -0.000782           0.009769     -0.003061  \n",
       "Item_MRP                  -0.000241           0.342781     -0.000141  \n",
       "Outlet_Identifier         -0.000083           0.097733     -0.079047  \n",
       "Outlet_Establishment_Year  0.000186          -0.015260     -0.970787  \n",
       "Outlet_Size               -0.000072          -0.051962     -0.193392  \n",
       "Outlet_Location_Type       0.000023           0.053848      0.089328  \n",
       "Outlet_Type               -0.000094           0.241785      0.122519  \n",
       "source                     1.000000           0.628682     -0.000173  \n",
       "Item_Outlet_Sales          0.628682           1.000000      0.029489  \n",
       "Outlet_Years              -0.000173           0.029489      1.000000  "
      ]
     },
     "execution_count": 43,
     "metadata": {},
     "output_type": "execute_result"
    }
   ],
   "source": [
    "corr=df.corr()\n",
    "corr"
   ]
  },
  {
   "cell_type": "code",
   "execution_count": 44,
   "id": "57600112",
   "metadata": {},
   "outputs": [
    {
     "data": {
      "image/png": "[encoded data removed]",
      "text/plain": [
       "<Figure size 1440x720 with 2 Axes>"
      ]
     },
     "metadata": {
      "needs_background": "light"
     },
     "output_type": "display_data"
    }
   ],
   "source": [
    "plt.figure(figsize=(20,10))\n",
    "sns.heatmap(corr,linewidth=0.5,linecolor='black',annot=True)\n",
    "plt.show()"
   ]
  },
  {
   "cell_type": "code",
   "execution_count": 45,
   "id": "081175a8",
   "metadata": {},
   "outputs": [
    {
     "data": {
      "text/plain": [
       "Item_Identifier             -0.004897\n",
       "Item_Weight                  0.111314\n",
       "Item_Fat_Content             0.996640\n",
       "Item_Visibility              1.195175\n",
       "Item_Type                    0.099574\n",
       "Item_MRP                     0.130728\n",
       "Outlet_Identifier           -0.059994\n",
       "Outlet_Establishment_Year    0.034412\n",
       "Outlet_Size                 -0.087077\n",
       "Outlet_Location_Type        -0.209053\n",
       "Outlet_Type                  0.927344\n",
       "source                      -0.408471\n",
       "Item_Outlet_Sales            1.544684\n",
       "Outlet_Years                 0.396465\n",
       "dtype: float64"
      ]
     },
     "execution_count": 45,
     "metadata": {},
     "output_type": "execute_result"
    }
   ],
   "source": [
    "df.skew()"
   ]
  },
  {
   "cell_type": "code",
   "execution_count": 46,
   "id": "89e8747c",
   "metadata": {},
   "outputs": [
    {
     "data": {
      "image/png": "[encoded data removed]",
      "text/plain": [
       "<Figure size 432x288 with 1 Axes>"
      ]
     },
     "metadata": {
      "needs_background": "light"
     },
     "output_type": "display_data"
    },
    {
     "data": {
      "image/png": "[encoded data removed]",
      "text/plain": [
       "<Figure size 432x288 with 1 Axes>"
      ]
     },
     "metadata": {
      "needs_background": "light"
     },
     "output_type": "display_data"
    },
    {
     "data": {
      "image/png": "[encoded data removed]",
      "text/plain": [
       "<Figure size 432x288 with 1 Axes>"
      ]
     },
     "metadata": {
      "needs_background": "light"
     },
     "output_type": "display_data"
    },
    {
     "data": {
      "image/png": "[encoded data removed]",
      "text/plain": [
       "<Figure size 432x288 with 1 Axes>"
      ]
     },
     "metadata": {
      "needs_background": "light"
     },
     "output_type": "display_data"
    }
   ],
   "source": [
    "skewcol= ['Item_Fat_Content','Item_Visibility','Outlet_Type','Item_Outlet_Sales'] \n",
    "for i in skewcol:\n",
    "    sns.distplot(df[i])\n",
    "    plt.show()"
   ]
  },
  {
   "cell_type": "code",
   "execution_count": 49,
   "id": "cac88bd4",
   "metadata": {},
   "outputs": [
    {
     "data": {
      "text/plain": [
       "<AxesSubplot:>"
      ]
     },
     "execution_count": 49,
     "metadata": {},
     "output_type": "execute_result"
    },
    {
     "data": {
      "image/png": "[encoded data removed]",
      "text/plain": [
       "<Figure size 432x288 with 1 Axes>"
      ]
     },
     "metadata": {
      "needs_background": "light"
     },
     "output_type": "display_data"
    }
   ],
   "source": [
    "df['Item_Fat_Content'].plot.box()"
   ]
  },
  {
   "cell_type": "code",
   "execution_count": 50,
   "id": "66b49527",
   "metadata": {},
   "outputs": [
    {
     "data": {
      "text/plain": [
       "<AxesSubplot:>"
      ]
     },
     "execution_count": 50,
     "metadata": {},
     "output_type": "execute_result"
    },
    {
     "data": {
      "image/png": "[encoded data removed]",
      "text/plain": [
       "<Figure size 432x288 with 1 Axes>"
      ]
     },
     "metadata": {
      "needs_background": "light"
     },
     "output_type": "display_data"
    }
   ],
   "source": [
    "df['Item_Visibility'].plot.box()"
   ]
  },
  {
   "cell_type": "code",
   "execution_count": 51,
   "id": "bf95b0c2",
   "metadata": {},
   "outputs": [
    {
     "data": {
      "text/plain": [
       "<AxesSubplot:>"
      ]
     },
     "execution_count": 51,
     "metadata": {},
     "output_type": "execute_result"
    },
    {
     "data": {
      "image/png": "[encoded data removed]",
      "text/plain": [
       "<Figure size 432x288 with 1 Axes>"
      ]
     },
     "metadata": {
      "needs_background": "light"
     },
     "output_type": "display_data"
    }
   ],
   "source": [
    "df['Item_Outlet_Sales'].plot.box()"
   ]
  },
  {
   "cell_type": "code",
   "execution_count": 52,
   "id": "406b091f",
   "metadata": {},
   "outputs": [
    {
     "data": {
      "text/plain": [
       "<AxesSubplot:>"
      ]
     },
     "execution_count": 52,
     "metadata": {},
     "output_type": "execute_result"
    },
    {
     "data": {
      "image/png": "[encoded data removed]",
      "text/plain": [
       "<Figure size 432x288 with 1 Axes>"
      ]
     },
     "metadata": {
      "needs_background": "light"
     },
     "output_type": "display_data"
    }
   ],
   "source": [
    "df['Outlet_Type'].plot.box()"
   ]
  },
  {
   "cell_type": "code",
   "execution_count": 53,
   "id": "4d7150d7",
   "metadata": {},
   "outputs": [
    {
     "data": {
      "text/plain": [
       "(array([    1,    46,    76,    78,    89,   103,   138,   242,   333,\n",
       "          369,   385,   474,   499,   543,   595,   637,   739,   783,\n",
       "          797,   815,   858,   871,   985,   996,  1025,  1037,  1046,\n",
       "         1105,  1143,  1191,  1256,  1256,  1270,  1284,  1314,  1321,\n",
       "         1411,  1422,  1437,  1516,  1539,  1616,  1710,  1757,  1780,\n",
       "         1812,  1823,  1853,  1857,  1915,  1919,  1927,  2019,  2070,\n",
       "         2167,  2179,  2230,  2271,  2275,  2365,  2365,  2380,  2393,\n",
       "         2504,  2516,  2561,  2595,  2605,  2609,  2625,  2628,  2677,\n",
       "         2779,  2798,  2836,  2843,  2866,  2915,  2926,  3039,  3077,\n",
       "         3097,  3267,  3294,  3313,  3316,  3357,  3362,  3378,  3461,\n",
       "         3502,  3565,  3622,  3638,  3679,  3744,  3778,  3783,  3950,\n",
       "         3970,  4021,  4052,  4133,  4146,  4147,  4148,  4159,  4208,\n",
       "         4232,  4255,  4328,  4330,  4334,  4340,  4352,  4365,  4421,\n",
       "         4478,  4542,  4575,  4616,  4616,  4689,  4692,  4726,  4801,\n",
       "         4804,  4845,  4846,  4870,  4919,  4921,  4941,  4965,  4970,\n",
       "         4976,  4999,  5121,  5132,  5154,  5157,  5168,  5277,  5290,\n",
       "         5323,  5328,  5429,  5435,  5447,  5469,  5482,  5514,  5542,\n",
       "         5571,  5668,  5671,  5724,  5730,  5762,  5764,  5789,  5811,\n",
       "         5813,  5826,  5832,  5855,  5880,  5884,  5921,  5924,  5956,\n",
       "         5957,  5985,  6014,  6018,  6020,  6054,  6077,  6083,  6105,\n",
       "         6115,  6137,  6153,  6170,  6178,  6183,  6202,  6213,  6296,\n",
       "         6321,  6322,  6342,  6375,  6408,  6434,  6434,  6490,  6519,\n",
       "         6525,  6535,  6572,  6596,  6616,  6672,  6678,  6690,  6691,\n",
       "         6693,  6715,  6724,  6771,  6773,  6794,  6805,  6808,  6814,\n",
       "         6819,  6840,  6864,  6890,  6935,  6953,  6972,  6992,  7005,\n",
       "         7053,  7074,  7114,  7115,  7131,  7177,  7182,  7187,  7193,\n",
       "         7223,  7230,  7241,  7246,  7256,  7257,  7282,  7292,  7296,\n",
       "         7298,  7308,  7325,  7331,  7332,  7339,  7365,  7381,  7386,\n",
       "         7390,  7391,  7404,  7434,  7450,  7486,  7502,  7508,  7516,\n",
       "         7522,  7540,  7560,  7668,  7677,  7679,  7743,  7769,  7790,\n",
       "         7792,  7803,  7824,  7849,  7854,  7897,  7904,  7919,  7932,\n",
       "         7963,  7974,  8005,  8012,  8119,  8120,  8126,  8197,  8209,\n",
       "         8216,  8233,  8250,  8267,  8270,  8280,  8294,  8296,  8341,\n",
       "         8359,  8361,  8368,  8409,  8457,  8484,  8536,  8576,  8586,\n",
       "         8603,  8652,  8654,  8692,  8698,  8714,  8754,  8764,  8768,\n",
       "         8779,  8835,  8887,  8889,  8894,  8906,  8915,  8922,  8923,\n",
       "         8924,  8936,  8967,  9016,  9048,  9080,  9081,  9088,  9139,\n",
       "         9155,  9161,  9169,  9172,  9175,  9178,  9179,  9190,  9221,\n",
       "         9226,  9263,  9265,  9271,  9283,  9348,  9351,  9390,  9401,\n",
       "         9431,  9438,  9448,  9529,  9544,  9550,  9565,  9575,  9584,\n",
       "         9660,  9674,  9687,  9700,  9764,  9775,  9831,  9844,  9900,\n",
       "         9926,  9970,  9971,  9986, 10027, 10030, 10059, 10063, 10074,\n",
       "        10089, 10091, 10096, 10144, 10149, 10211, 10279, 10337, 10355,\n",
       "        10357, 10361, 10362, 10380, 10453, 10470, 10546, 10569, 10572,\n",
       "        10594, 10596, 10622, 10642, 10672, 10712, 10728, 10735, 10746,\n",
       "        10814, 10827, 10831, 10858, 10866, 10883, 10904, 10906, 10968,\n",
       "        10973, 10996, 11032, 11055, 11082, 11094, 11097, 11098, 11144,\n",
       "        11148, 11155, 11175, 11181, 11220, 11231, 11239, 11258, 11292,\n",
       "        11300, 11314, 11413, 11415, 11433, 11456, 11465, 11476, 11480,\n",
       "        11481, 11493, 11518, 11547, 11561, 11572, 11627, 11650, 11658,\n",
       "        11681, 11689, 11693, 11738, 11773, 11813, 11815, 11850, 11857,\n",
       "        11860, 11949, 12015, 12025, 12038, 12051, 12090, 12143, 12149,\n",
       "        12165, 12167, 12217, 12218, 12221, 12222, 12249, 12250, 12257,\n",
       "        12287, 12303, 12355, 12377, 12410, 12446, 12467, 12477, 12484,\n",
       "        12524, 12567, 12584, 12587, 12674, 12682, 12686, 12695, 12697,\n",
       "        12757, 12769, 12788, 12799, 12802, 12827, 12828, 12830, 12845,\n",
       "        12869, 12872, 12881, 12896, 12917, 12931, 12937, 12959, 12983,\n",
       "        12989, 12999, 13024, 13034, 13069, 13177, 13180, 13216, 13220,\n",
       "        13239, 13241, 13243, 13276, 13284, 13290, 13371, 13374, 13384,\n",
       "        13393, 13403, 13418, 13425, 13426, 13432, 13433, 13477, 13497,\n",
       "        13507, 13545, 13547, 13591, 13607, 13611, 13625, 13630, 13637,\n",
       "        13648, 13662, 13685, 13720, 13766, 13794, 13824, 13875, 13882,\n",
       "        13889, 13896, 13914, 13926, 13954, 14010, 14026, 14031, 14068,\n",
       "        14113, 14128, 14191, 14198], dtype=int64),\n",
       " array([ 2,  3,  3,  3,  3,  2,  3,  2,  3,  2,  3,  3,  2,  3,  2,  3,  2,\n",
       "         2,  2,  2,  3,  3,  2,  2,  2,  2,  3,  2,  2,  3,  2,  3,  3,  2,\n",
       "         2,  2,  3,  2,  2,  3,  2,  3,  3,  2,  2,  3,  3,  2,  3,  3,  3,\n",
       "         2,  3,  2,  2,  3,  3,  2,  2,  2,  3,  3,  3,  3,  3,  3,  2,  3,\n",
       "         3,  3,  3,  3,  3,  2,  3,  3,  2,  2,  2,  2,  2,  2,  3,  3,  3,\n",
       "         3,  2,  2,  3,  2,  3,  2,  2,  3,  3,  2,  2,  2,  2,  3,  2,  3,\n",
       "         2,  2,  3,  2,  3,  3,  2,  3,  3,  2,  2,  2,  2,  3,  3,  2,  2,\n",
       "         3,  2,  3,  3,  2,  2,  3,  3,  2,  3,  2,  3,  2,  2,  2,  2,  3,\n",
       "         3,  3,  2,  2,  3,  2,  3,  3,  2,  2,  2,  3,  2,  3,  3,  3,  2,\n",
       "         3,  3,  2, 12,  3,  2,  3,  3, 12, 12, 12,  2,  3,  2, 12, 12, 12,\n",
       "        12, 12, 12, 12, 12,  2, 12,  2, 12, 12,  3, 12, 12,  2, 12,  3,  3,\n",
       "         3,  2, 12, 12, 12, 12,  2,  2, 12, 12,  2, 12,  3,  2, 12, 12, 12,\n",
       "        12, 12,  2, 12,  2, 12,  2, 12, 12,  2, 12,  2, 12,  3,  2,  2, 12,\n",
       "         3,  3,  3,  3,  2, 12,  2,  3, 12,  3,  3, 12,  2,  2,  2,  3, 12,\n",
       "         3,  2, 12, 12,  2,  2, 12,  3, 12,  3, 12,  2, 12, 12, 12, 12,  2,\n",
       "         2,  2,  3, 12,  3, 12,  3, 12, 12, 12, 12, 12,  2,  3, 12,  2,  3,\n",
       "         2,  2,  2, 12,  2, 12,  3, 12, 12,  3,  2,  2,  3,  3, 12, 12, 12,\n",
       "         2,  2,  3, 12, 12,  3, 12,  2,  2, 12, 12,  3, 12, 12,  3,  3,  2,\n",
       "        12,  2,  2,  2,  3, 12, 12, 12, 12, 12, 12,  3, 12, 12,  2, 12,  2,\n",
       "         2,  2, 12, 12,  2,  2,  3, 12, 12,  3,  3,  2,  3,  2, 12,  3, 12,\n",
       "         2,  3,  2,  2, 12, 12,  2, 12, 12, 12, 12,  3, 12,  3, 12, 12, 12,\n",
       "         3, 12, 12, 12,  3,  3,  2,  2, 12, 12,  2,  3,  2, 12,  2, 12, 12,\n",
       "        12, 12,  3,  2,  3, 12,  2,  2, 12,  3, 12,  3,  3, 12,  2, 12, 12,\n",
       "        12,  3,  2, 12, 12, 12, 12,  3, 12, 12,  3,  2,  2, 12,  2,  2,  3,\n",
       "        12, 12,  2, 12, 12,  3, 12, 12, 12,  3,  2, 12, 12,  2, 12,  2, 12,\n",
       "        12, 12,  2, 12, 12,  2,  2, 12,  2,  3,  3, 12, 12,  2,  3, 12, 12,\n",
       "        12,  3, 12,  3,  3,  3, 12, 12, 12,  3,  3, 12, 12,  2, 12, 12,  2,\n",
       "         3,  2, 12,  2,  2,  2, 12,  2,  2, 12,  2,  3, 12,  2, 12, 12, 12,\n",
       "         3, 12,  3,  3, 12,  2, 12,  3, 12,  2,  2, 12,  3, 12, 12,  2,  3,\n",
       "        12, 12, 12,  3,  3, 12,  3,  2,  2, 12, 12, 12, 12,  2,  3, 12,  3,\n",
       "        12,  3, 12,  2,  2, 12,  2,  3,  2,  3,  2, 12,  3, 12, 12, 12,  3,\n",
       "        12, 12,  2,  2,  2,  2, 12,  3,  2,  2, 12, 12, 12, 12, 12,  3,  2,\n",
       "        12, 12,  2,  3, 12, 12, 12,  2, 12,  2, 12,  2,  3, 12, 12,  3,  2,\n",
       "        12,  3, 12,  3, 12,  2,  3, 12, 12,  2], dtype=int64))"
      ]
     },
     "execution_count": 53,
     "metadata": {},
     "output_type": "execute_result"
    }
   ],
   "source": [
    "from scipy.stats import zscore\n",
    "import numpy as np\n",
    "z=np.abs(zscore(df))   #converting all values into absolute values\n",
    "threshold=3    #setting up a threshold\n",
    "np.where(z>3)"
   ]
  },
  {
   "cell_type": "code",
   "execution_count": 54,
   "id": "158a6ec3",
   "metadata": {},
   "outputs": [
    {
     "data": {
      "text/html": [
       "<div>\n",
       "<style scoped>\n",
       "    .dataframe tbody tr th:only-of-type {\n",
       "        vertical-align: middle;\n",
       "    }\n",
       "\n",
       "    .dataframe tbody tr th {\n",
       "        vertical-align: top;\n",
       "    }\n",
       "\n",
       "    .dataframe thead th {\n",
       "        text-align: right;\n",
       "    }\n",
       "</style>\n",
       "<table border=\"1\" class=\"dataframe\">\n",
       "  <thead>\n",
       "    <tr style=\"text-align: right;\">\n",
       "      <th></th>\n",
       "      <th>Item_Identifier</th>\n",
       "      <th>Item_Weight</th>\n",
       "      <th>Item_Fat_Content</th>\n",
       "      <th>Item_Visibility</th>\n",
       "      <th>Item_Type</th>\n",
       "      <th>Item_MRP</th>\n",
       "      <th>Outlet_Identifier</th>\n",
       "      <th>Outlet_Establishment_Year</th>\n",
       "      <th>Outlet_Size</th>\n",
       "      <th>Outlet_Location_Type</th>\n",
       "      <th>Outlet_Type</th>\n",
       "      <th>source</th>\n",
       "      <th>Item_Outlet_Sales</th>\n",
       "      <th>Outlet_Years</th>\n",
       "    </tr>\n",
       "  </thead>\n",
       "  <tbody>\n",
       "    <tr>\n",
       "      <th>0</th>\n",
       "      <td>1114</td>\n",
       "      <td>20.750000</td>\n",
       "      <td>1</td>\n",
       "      <td>0.007565</td>\n",
       "      <td>13</td>\n",
       "      <td>107.8622</td>\n",
       "      <td>9</td>\n",
       "      <td>4</td>\n",
       "      <td>1</td>\n",
       "      <td>0</td>\n",
       "      <td>1</td>\n",
       "      <td>0</td>\n",
       "      <td>0.0000</td>\n",
       "      <td>14</td>\n",
       "    </tr>\n",
       "    <tr>\n",
       "      <th>2</th>\n",
       "      <td>1420</td>\n",
       "      <td>14.600000</td>\n",
       "      <td>1</td>\n",
       "      <td>0.099575</td>\n",
       "      <td>11</td>\n",
       "      <td>241.7538</td>\n",
       "      <td>0</td>\n",
       "      <td>3</td>\n",
       "      <td>1</td>\n",
       "      <td>2</td>\n",
       "      <td>0</td>\n",
       "      <td>0</td>\n",
       "      <td>0.0000</td>\n",
       "      <td>15</td>\n",
       "    </tr>\n",
       "    <tr>\n",
       "      <th>3</th>\n",
       "      <td>817</td>\n",
       "      <td>7.315000</td>\n",
       "      <td>1</td>\n",
       "      <td>0.015388</td>\n",
       "      <td>13</td>\n",
       "      <td>155.0340</td>\n",
       "      <td>2</td>\n",
       "      <td>7</td>\n",
       "      <td>1</td>\n",
       "      <td>1</td>\n",
       "      <td>1</td>\n",
       "      <td>0</td>\n",
       "      <td>0.0000</td>\n",
       "      <td>6</td>\n",
       "    </tr>\n",
       "    <tr>\n",
       "      <th>4</th>\n",
       "      <td>1197</td>\n",
       "      <td>12.792854</td>\n",
       "      <td>2</td>\n",
       "      <td>0.118599</td>\n",
       "      <td>4</td>\n",
       "      <td>234.2300</td>\n",
       "      <td>5</td>\n",
       "      <td>0</td>\n",
       "      <td>1</td>\n",
       "      <td>2</td>\n",
       "      <td>3</td>\n",
       "      <td>0</td>\n",
       "      <td>0.0000</td>\n",
       "      <td>28</td>\n",
       "    </tr>\n",
       "    <tr>\n",
       "      <th>5</th>\n",
       "      <td>465</td>\n",
       "      <td>9.800000</td>\n",
       "      <td>2</td>\n",
       "      <td>0.063817</td>\n",
       "      <td>6</td>\n",
       "      <td>117.1492</td>\n",
       "      <td>8</td>\n",
       "      <td>2</td>\n",
       "      <td>2</td>\n",
       "      <td>0</td>\n",
       "      <td>1</td>\n",
       "      <td>0</td>\n",
       "      <td>0.0000</td>\n",
       "      <td>16</td>\n",
       "    </tr>\n",
       "    <tr>\n",
       "      <th>...</th>\n",
       "      <td>...</td>\n",
       "      <td>...</td>\n",
       "      <td>...</td>\n",
       "      <td>...</td>\n",
       "      <td>...</td>\n",
       "      <td>...</td>\n",
       "      <td>...</td>\n",
       "      <td>...</td>\n",
       "      <td>...</td>\n",
       "      <td>...</td>\n",
       "      <td>...</td>\n",
       "      <td>...</td>\n",
       "      <td>...</td>\n",
       "      <td>...</td>\n",
       "    </tr>\n",
       "    <tr>\n",
       "      <th>14199</th>\n",
       "      <td>370</td>\n",
       "      <td>6.865000</td>\n",
       "      <td>1</td>\n",
       "      <td>0.056783</td>\n",
       "      <td>13</td>\n",
       "      <td>214.5218</td>\n",
       "      <td>1</td>\n",
       "      <td>1</td>\n",
       "      <td>0</td>\n",
       "      <td>2</td>\n",
       "      <td>1</td>\n",
       "      <td>1</td>\n",
       "      <td>2778.3834</td>\n",
       "      <td>26</td>\n",
       "    </tr>\n",
       "    <tr>\n",
       "      <th>14200</th>\n",
       "      <td>897</td>\n",
       "      <td>8.380000</td>\n",
       "      <td>2</td>\n",
       "      <td>0.046982</td>\n",
       "      <td>0</td>\n",
       "      <td>108.1570</td>\n",
       "      <td>7</td>\n",
       "      <td>5</td>\n",
       "      <td>1</td>\n",
       "      <td>1</td>\n",
       "      <td>1</td>\n",
       "      <td>1</td>\n",
       "      <td>549.2850</td>\n",
       "      <td>11</td>\n",
       "    </tr>\n",
       "    <tr>\n",
       "      <th>14201</th>\n",
       "      <td>1357</td>\n",
       "      <td>10.600000</td>\n",
       "      <td>1</td>\n",
       "      <td>0.035186</td>\n",
       "      <td>8</td>\n",
       "      <td>85.1224</td>\n",
       "      <td>6</td>\n",
       "      <td>6</td>\n",
       "      <td>2</td>\n",
       "      <td>1</td>\n",
       "      <td>1</td>\n",
       "      <td>1</td>\n",
       "      <td>1193.1136</td>\n",
       "      <td>9</td>\n",
       "    </tr>\n",
       "    <tr>\n",
       "      <th>14202</th>\n",
       "      <td>681</td>\n",
       "      <td>7.210000</td>\n",
       "      <td>2</td>\n",
       "      <td>0.145221</td>\n",
       "      <td>13</td>\n",
       "      <td>103.1332</td>\n",
       "      <td>3</td>\n",
       "      <td>8</td>\n",
       "      <td>1</td>\n",
       "      <td>2</td>\n",
       "      <td>2</td>\n",
       "      <td>1</td>\n",
       "      <td>1845.5976</td>\n",
       "      <td>4</td>\n",
       "    </tr>\n",
       "    <tr>\n",
       "      <th>14203</th>\n",
       "      <td>50</td>\n",
       "      <td>14.800000</td>\n",
       "      <td>1</td>\n",
       "      <td>0.044878</td>\n",
       "      <td>14</td>\n",
       "      <td>75.4670</td>\n",
       "      <td>8</td>\n",
       "      <td>2</td>\n",
       "      <td>2</td>\n",
       "      <td>0</td>\n",
       "      <td>1</td>\n",
       "      <td>1</td>\n",
       "      <td>765.6700</td>\n",
       "      <td>16</td>\n",
       "    </tr>\n",
       "  </tbody>\n",
       "</table>\n",
       "<p>13637 rows × 14 columns</p>\n",
       "</div>"
      ],
      "text/plain": [
       "       Item_Identifier  Item_Weight  Item_Fat_Content  Item_Visibility  \\\n",
       "0                 1114    20.750000                 1         0.007565   \n",
       "2                 1420    14.600000                 1         0.099575   \n",
       "3                  817     7.315000                 1         0.015388   \n",
       "4                 1197    12.792854                 2         0.118599   \n",
       "5                  465     9.800000                 2         0.063817   \n",
       "...                ...          ...               ...              ...   \n",
       "14199              370     6.865000                 1         0.056783   \n",
       "14200              897     8.380000                 2         0.046982   \n",
       "14201             1357    10.600000                 1         0.035186   \n",
       "14202              681     7.210000                 2         0.145221   \n",
       "14203               50    14.800000                 1         0.044878   \n",
       "\n",
       "       Item_Type  Item_MRP  Outlet_Identifier  Outlet_Establishment_Year  \\\n",
       "0             13  107.8622                  9                          4   \n",
       "2             11  241.7538                  0                          3   \n",
       "3             13  155.0340                  2                          7   \n",
       "4              4  234.2300                  5                          0   \n",
       "5              6  117.1492                  8                          2   \n",
       "...          ...       ...                ...                        ...   \n",
       "14199         13  214.5218                  1                          1   \n",
       "14200          0  108.1570                  7                          5   \n",
       "14201          8   85.1224                  6                          6   \n",
       "14202         13  103.1332                  3                          8   \n",
       "14203         14   75.4670                  8                          2   \n",
       "\n",
       "       Outlet_Size  Outlet_Location_Type  Outlet_Type  source  \\\n",
       "0                1                     0            1       0   \n",
       "2                1                     2            0       0   \n",
       "3                1                     1            1       0   \n",
       "4                1                     2            3       0   \n",
       "5                2                     0            1       0   \n",
       "...            ...                   ...          ...     ...   \n",
       "14199            0                     2            1       1   \n",
       "14200            1                     1            1       1   \n",
       "14201            2                     1            1       1   \n",
       "14202            1                     2            2       1   \n",
       "14203            2                     0            1       1   \n",
       "\n",
       "       Item_Outlet_Sales  Outlet_Years  \n",
       "0                 0.0000            14  \n",
       "2                 0.0000            15  \n",
       "3                 0.0000             6  \n",
       "4                 0.0000            28  \n",
       "5                 0.0000            16  \n",
       "...                  ...           ...  \n",
       "14199          2778.3834            26  \n",
       "14200           549.2850            11  \n",
       "14201          1193.1136             9  \n",
       "14202          1845.5976             4  \n",
       "14203           765.6700            16  \n",
       "\n",
       "[13637 rows x 14 columns]"
      ]
     },
     "execution_count": 54,
     "metadata": {},
     "output_type": "execute_result"
    }
   ],
   "source": [
    "df_new=df[(z<3).all(axis=1)]\n",
    "df_new"
   ]
  },
  {
   "cell_type": "code",
   "execution_count": 56,
   "id": "9131e24c",
   "metadata": {},
   "outputs": [
    {
     "data": {
      "text/plain": [
       "(14204, 14)"
      ]
     },
     "execution_count": 56,
     "metadata": {},
     "output_type": "execute_result"
    }
   ],
   "source": [
    "df.shape\n",
    " "
   ]
  },
  {
   "cell_type": "code",
   "execution_count": 57,
   "id": "9d1aec84",
   "metadata": {},
   "outputs": [
    {
     "data": {
      "text/plain": [
       "(13637, 14)"
      ]
     },
     "execution_count": 57,
     "metadata": {},
     "output_type": "execute_result"
    }
   ],
   "source": [
    "df_new.shape "
   ]
  },
  {
   "cell_type": "code",
   "execution_count": 58,
   "id": "909f6e34",
   "metadata": {},
   "outputs": [
    {
     "name": "stdout",
     "output_type": "stream",
     "text": [
      "3.991833286398198\n"
     ]
    }
   ],
   "source": [
    "percentage_loss=((567)/14204)*100   #567 = 14204-13637\n",
    "print(percentage_loss)"
   ]
  },
  {
   "cell_type": "code",
   "execution_count": 59,
   "id": "7f63d2b7",
   "metadata": {},
   "outputs": [],
   "source": [
    "for col in df_new.columns:\n",
    "    if df_new.skew().loc[col]>0.55:\n",
    "        df_new[col]=np.log1p(df_new[col])"
   ]
  },
  {
   "cell_type": "code",
   "execution_count": 60,
   "id": "2d2cd741",
   "metadata": {},
   "outputs": [
    {
     "data": {
      "text/plain": [
       "Item_Identifier             -0.007206\n",
       "Item_Weight                  0.107797\n",
       "Item_Fat_Content             0.284306\n",
       "Item_Visibility              0.710667\n",
       "Item_Type                    0.091851\n",
       "Item_MRP                     0.144519\n",
       "Outlet_Identifier           -0.067703\n",
       "Outlet_Establishment_Year    0.012625\n",
       "Outlet_Size                 -0.087967\n",
       "Outlet_Location_Type        -0.202324\n",
       "Outlet_Type                 -0.237767\n",
       "source                      -0.385539\n",
       "Item_Outlet_Sales           -0.268402\n",
       "Outlet_Years                 0.423675\n",
       "dtype: float64"
      ]
     },
     "execution_count": 60,
     "metadata": {},
     "output_type": "execute_result"
    }
   ],
   "source": [
    "df_new.skew() "
   ]
  },
  {
   "cell_type": "code",
   "execution_count": 62,
   "id": "9540916c",
   "metadata": {},
   "outputs": [],
   "source": [
    "x=df_new.drop('Item_Outlet_Sales',axis=1)   \n",
    "y=df_new['Item_Outlet_Sales'] "
   ]
  },
  {
   "cell_type": "code",
   "execution_count": 63,
   "id": "84f79255",
   "metadata": {},
   "outputs": [
    {
     "data": {
      "text/plain": [
       "<bound method NDFrame.head of        Item_Identifier  Item_Weight  Item_Fat_Content  Item_Visibility  \\\n",
       "0                 1114    20.750000                 1         0.007536   \n",
       "2                 1420    14.600000                 1         0.094924   \n",
       "3                  817     7.315000                 1         0.015271   \n",
       "4                 1197    12.792854                 2         0.112077   \n",
       "5                  465     9.800000                 2         0.061864   \n",
       "...                ...          ...               ...              ...   \n",
       "14199              370     6.865000                 1         0.055230   \n",
       "14200              897     8.380000                 2         0.045912   \n",
       "14201             1357    10.600000                 1         0.034581   \n",
       "14202              681     7.210000                 2         0.135597   \n",
       "14203               50    14.800000                 1         0.043900   \n",
       "\n",
       "       Item_Type  Item_MRP  Outlet_Identifier  Outlet_Establishment_Year  \\\n",
       "0             13  107.8622                  9                          4   \n",
       "2             11  241.7538                  0                          3   \n",
       "3             13  155.0340                  2                          7   \n",
       "4              4  234.2300                  5                          0   \n",
       "5              6  117.1492                  8                          2   \n",
       "...          ...       ...                ...                        ...   \n",
       "14199         13  214.5218                  1                          1   \n",
       "14200          0  108.1570                  7                          5   \n",
       "14201          8   85.1224                  6                          6   \n",
       "14202         13  103.1332                  3                          8   \n",
       "14203         14   75.4670                  8                          2   \n",
       "\n",
       "       Outlet_Size  Outlet_Location_Type  Outlet_Type  source  Outlet_Years  \n",
       "0                1                     0     0.693147       0            14  \n",
       "2                1                     2     0.000000       0            15  \n",
       "3                1                     1     0.693147       0             6  \n",
       "4                1                     2     1.386294       0            28  \n",
       "5                2                     0     0.693147       0            16  \n",
       "...            ...                   ...          ...     ...           ...  \n",
       "14199            0                     2     0.693147       1            26  \n",
       "14200            1                     1     0.693147       1            11  \n",
       "14201            2                     1     0.693147       1             9  \n",
       "14202            1                     2     1.098612       1             4  \n",
       "14203            2                     0     0.693147       1            16  \n",
       "\n",
       "[13637 rows x 13 columns]>"
      ]
     },
     "execution_count": 63,
     "metadata": {},
     "output_type": "execute_result"
    }
   ],
   "source": [
    "x.head"
   ]
  },
  {
   "cell_type": "code",
   "execution_count": 64,
   "id": "3eb50973",
   "metadata": {},
   "outputs": [
    {
     "data": {
      "text/plain": [
       "0        0.000000\n",
       "2        0.000000\n",
       "3        0.000000\n",
       "4        0.000000\n",
       "5        0.000000\n",
       "           ...   \n",
       "14199    7.929984\n",
       "14200    6.310436\n",
       "14201    7.085159\n",
       "14202    7.521100\n",
       "14203    6.642056\n",
       "Name: Item_Outlet_Sales, Length: 13637, dtype: float64"
      ]
     },
     "execution_count": 64,
     "metadata": {},
     "output_type": "execute_result"
    }
   ],
   "source": [
    "y"
   ]
  },
  {
   "cell_type": "code",
   "execution_count": 66,
   "id": "465956f8",
   "metadata": {},
   "outputs": [
    {
     "data": {
      "text/plain": [
       "array([[ 7.36059157e-01,  1.86539187e+00, -5.84964117e-01, ...,\n",
       "        -1.02612632e-01, -1.21115474e+00, -1.20579793e-01],\n",
       "       [ 1.41360894e+00,  4.22698286e-01, -5.84964117e-01, ...,\n",
       "        -2.06803592e+00, -1.21115474e+00, -3.61439649e-04],\n",
       "       [ 7.84373110e-02, -1.28624851e+00, -5.84964117e-01, ...,\n",
       "        -1.02612632e-01, -1.21115474e+00, -1.08232662e+00],\n",
       "       ...,\n",
       "       [ 1.27411340e+00, -5.15639007e-01, -5.84964117e-01, ...,\n",
       "        -1.02612632e-01,  8.25658330e-01, -7.21671560e-01],\n",
       "       [-2.22695925e-01, -1.31087986e+00,  1.17950296e+00, ...,\n",
       "         1.04708629e+00,  8.25658330e-01, -1.32276333e+00],\n",
       "       [-1.61986557e+00,  4.69615150e-01, -5.84964117e-01, ...,\n",
       "        -1.02612632e-01,  8.25658330e-01,  1.19856914e-01]])"
      ]
     },
     "execution_count": 66,
     "metadata": {},
     "output_type": "execute_result"
    }
   ],
   "source": [
    "from sklearn.preprocessing import StandardScaler\n",
    "sc=StandardScaler()\n",
    "x=sc.fit_transform(x)\n",
    "x"
   ]
  },
  {
   "cell_type": "code",
   "execution_count": 69,
   "id": "b44502b1",
   "metadata": {},
   "outputs": [],
   "source": [
    "from sklearn.model_selection import train_test_split\n",
    "from sklearn.linear_model import LinearRegression\n",
    "from sklearn.model_selection import cross_val_score\n",
    "from sklearn.metrics import r2_score"
   ]
  },
  {
   "cell_type": "code",
   "execution_count": 81,
   "id": "1f096631",
   "metadata": {},
   "outputs": [
    {
     "name": "stdout",
     "output_type": "stream",
     "text": [
      "At random state 24 ,the model performs well\n",
      "Training r2_score is:  97.28516541337815\n",
      "Testing r2_score is:  97.28900760150509\n",
      "At random state 106 ,the model performs well\n",
      "Training r2_score is:  97.28586632714563\n",
      "Testing r2_score is:  97.28755353948492\n",
      "At random state 109 ,the model performs well\n",
      "Training r2_score is:  97.28693188935631\n",
      "Testing r2_score is:  97.2855126076708\n",
      "At random state 275 ,the model performs well\n",
      "Training r2_score is:  97.28597597386532\n",
      "Testing r2_score is:  97.28750761432924\n",
      "At random state 279 ,the model performs well\n",
      "Training r2_score is:  97.28641034763555\n",
      "Testing r2_score is:  97.28744708959451\n",
      "At random state 294 ,the model performs well\n",
      "Training r2_score is:  97.28551982630272\n",
      "Testing r2_score is:  97.28798393560024\n",
      "At random state 441 ,the model performs well\n",
      "Training r2_score is:  97.2857406142998\n",
      "Testing r2_score is:  97.28846132767116\n",
      "At random state 451 ,the model performs well\n",
      "Training r2_score is:  97.28503584944754\n",
      "Testing r2_score is:  97.2922998487064\n",
      "At random state 483 ,the model performs well\n",
      "Training r2_score is:  97.28589823912158\n",
      "Testing r2_score is:  97.28658537996068\n",
      "At random state 488 ,the model performs well\n",
      "Training r2_score is:  97.28597170843197\n",
      "Testing r2_score is:  97.28822501813342\n",
      "At random state 506 ,the model performs well\n",
      "Training r2_score is:  97.28634861129656\n",
      "Testing r2_score is:  97.28709946356987\n",
      "At random state 570 ,the model performs well\n",
      "Training r2_score is:  97.28505090898175\n",
      "Testing r2_score is:  97.29033396921768\n",
      "At random state 588 ,the model performs well\n",
      "Training r2_score is:  97.28642163526199\n",
      "Testing r2_score is:  97.28677910641552\n",
      "At random state 704 ,the model performs well\n",
      "Training r2_score is:  97.28663157450738\n",
      "Testing r2_score is:  97.28698599692628\n",
      "At random state 754 ,the model performs well\n",
      "Training r2_score is:  97.28612265014657\n",
      "Testing r2_score is:  97.28661889332089\n",
      "At random state 806 ,the model performs well\n",
      "Training r2_score is:  97.28629580226837\n",
      "Testing r2_score is:  97.28670857206625\n",
      "At random state 870 ,the model performs well\n",
      "Training r2_score is:  97.28594172396605\n",
      "Testing r2_score is:  97.28736038078092\n",
      "At random state 903 ,the model performs well\n",
      "Training r2_score is:  97.28578475832\n",
      "Testing r2_score is:  97.28782676885209\n",
      "At random state 911 ,the model performs well\n",
      "Training r2_score is:  97.28603182765107\n",
      "Testing r2_score is:  97.28543465004678\n",
      "At random state 916 ,the model performs well\n",
      "Training r2_score is:  97.2853900285026\n",
      "Testing r2_score is:  97.28880348739344\n",
      "At random state 995 ,the model performs well\n",
      "Training r2_score is:  97.28512279710297\n",
      "Testing r2_score is:  97.28656656985561\n"
     ]
    }
   ],
   "source": [
    "best_rstate=0\n",
    "accuracy=0\n",
    "for i in range(0,1000):\n",
    "    x_train,x_test,y_train,y_test=train_test_split(x,y,test_size=.20,random_state=i)\n",
    "    lr=LinearRegression()\n",
    "    lr.fit(x_train,y_train)\n",
    "    pred_train=lr.predict(x_train)\n",
    "    pred_test=lr.predict(x_test)\n",
    "    if round(r2_score(y_train,pred_train)*100,2)==round(r2_score(y_test,pred_test)*100,2):\n",
    "        print('At random state',i,',the model performs well')\n",
    "        print('Training r2_score is: ',r2_score(y_train,pred_train)*100)\n",
    "        print('Testing r2_score is: ',r2_score(y_test,pred_test)*100)"
   ]
  },
  {
   "cell_type": "code",
   "execution_count": 84,
   "id": "01edf7b8",
   "metadata": {},
   "outputs": [],
   "source": [
    "x_train,x_test,y_train,y_test=train_test_split(x,y,random_state=451,test_size=.20)"
   ]
  },
  {
   "cell_type": "code",
   "execution_count": 85,
   "id": "fae7c2a2",
   "metadata": {},
   "outputs": [],
   "source": [
    "#Importing the models we are going to use\n",
    "from sklearn.linear_model import LinearRegression\n",
    "from sklearn.ensemble import RandomForestRegressor\n",
    "from sklearn.svm import SVR\n",
    "from sklearn.tree import DecisionTreeRegressor"
   ]
  },
  {
   "cell_type": "code",
   "execution_count": 86,
   "id": "136b95d3",
   "metadata": {},
   "outputs": [],
   "source": [
    "LR=LinearRegression()\n",
    "rfr=RandomForestRegressor()\n",
    "svr=SVR()\n",
    "dtr=DecisionTreeRegressor()"
   ]
  },
  {
   "cell_type": "code",
   "execution_count": 88,
   "id": "2fa5f295",
   "metadata": {},
   "outputs": [],
   "source": [
    "models= []\n",
    "models.append(('Linear Regression',LR))\n",
    "models.append(('Random Forest Regressor',rfr))\n",
    "models.append(('Support Vector Regressor',svr))\n",
    "models.append(('Decision Tree Regressor',dtr))"
   ]
  },
  {
   "cell_type": "code",
   "execution_count": 89,
   "id": "d1af0c85",
   "metadata": {},
   "outputs": [],
   "source": [
    "from sklearn.metrics import mean_squared_error,r2_score\n",
    "from sklearn.model_selection import cross_val_score\n",
    "import numpy as np"
   ]
  },
  {
   "cell_type": "code",
   "execution_count": null,
   "id": "98a29fbe",
   "metadata": {},
   "outputs": [],
   "source": []
  },
  {
   "cell_type": "code",
   "execution_count": null,
   "id": "3e04c0e1",
   "metadata": {},
   "outputs": [],
   "source": []
  },
  {
   "cell_type": "code",
   "execution_count": null,
   "id": "45db3e92",
   "metadata": {},
   "outputs": [],
   "source": []
  }
 ],
 "metadata": {
  "kernelspec": {
   "display_name": "Python 3 (ipykernel)",
   "language": "python",
   "name": "python3"
  },
  "language_info": {
   "codemirror_mode": {
    "name": "ipython",
    "version": 3
   },
   "file_extension": ".py",
   "mimetype": "text/x-python",
   "name": "python",
   "nbconvert_exporter": "python",
   "pygments_lexer": "ipython3",
   "version": "3.9.7"
  }
 },
 "nbformat": 4,
 "nbformat_minor": 5
}
